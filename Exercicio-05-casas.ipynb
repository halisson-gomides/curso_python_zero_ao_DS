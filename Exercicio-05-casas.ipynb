{
 "cells": [
  {
   "cell_type": "markdown",
   "metadata": {},
   "source": [
    "### Exercícios da Aula 05\n",
    "---\n",
    " \n",
    "Author : Halisson S. Gomides - halisson.gomides@gmail.com\n",
    "\n",
    "Date : 09/02/2021\n",
    "\n",
    "---\n",
    "\n",
    "### Conjunto de dados House Sales in King County, USA\n",
    ">https://www.kaggle.com/harlfoxem/housesalesprediction\n",
    "\n",
    "\n",
    "### Respondendo perguntas do CEO:\n",
    "\n"
   ]
  },
  {
   "cell_type": "code",
   "execution_count": 7,
   "metadata": {
    "ExecuteTime": {
     "end_time": "2021-02-09T18:55:41.862602Z",
     "start_time": "2021-02-09T18:55:41.850669Z"
    }
   },
   "outputs": [],
   "source": [
    "import pandas as pd\n",
    "from numpy import nan\n",
    "%config Completer.use_jedi = False "
   ]
  },
  {
   "cell_type": "code",
   "execution_count": 2,
   "metadata": {
    "ExecuteTime": {
     "end_time": "2021-02-09T17:21:31.232821Z",
     "start_time": "2021-02-09T17:21:31.102122Z"
    }
   },
   "outputs": [],
   "source": [
    "# Abrindo o arquivo já com os dados que foram coletados da API Geopy\n",
    "# \n",
    "# Isso foi feito, pois ao fechar o notebook antes de concluir todos o exercícios, e depois abrir novamente\n",
    "# para dar continuidade aos exercícios, não é necessário coletar novamente os dados da API, pois é muito demorado\n",
    "# \n",
    "\n",
    "df_houses = pd.read_csv('dados/processados/kc_house_data_comp.csv', parse_dates=['date'], \n",
    "                       infer_datetime_format=True, dtype={'condition': str })"
   ]
  },
  {
   "cell_type": "code",
   "execution_count": 3,
   "metadata": {
    "ExecuteTime": {
     "end_time": "2021-02-09T17:21:50.140962Z",
     "start_time": "2021-02-09T17:21:50.117002Z"
    }
   },
   "outputs": [
    {
     "name": "stdout",
     "output_type": "stream",
     "text": [
      "<class 'pandas.core.frame.DataFrame'>\n",
      "RangeIndex: 21436 entries, 0 to 21435\n",
      "Data columns (total 33 columns):\n",
      " #   Column         Non-Null Count  Dtype         \n",
      "---  ------         --------------  -----         \n",
      " 0   id             21436 non-null  int64         \n",
      " 1   date           21436 non-null  datetime64[ns]\n",
      " 2   price          21436 non-null  float64       \n",
      " 3   bedrooms       21436 non-null  int64         \n",
      " 4   bathrooms      21436 non-null  float64       \n",
      " 5   sqft_living    21436 non-null  int64         \n",
      " 6   sqft_lot       21436 non-null  int64         \n",
      " 7   floors         21436 non-null  float64       \n",
      " 8   waterfront     21436 non-null  int64         \n",
      " 9   view           21436 non-null  int64         \n",
      " 10  condition      21436 non-null  object        \n",
      " 11  grade          21436 non-null  int64         \n",
      " 12  sqft_above     21436 non-null  int64         \n",
      " 13  sqft_basement  21436 non-null  int64         \n",
      " 14  yr_built       21436 non-null  int64         \n",
      " 15  yr_renovated   21436 non-null  int64         \n",
      " 16  zipcode        21436 non-null  int64         \n",
      " 17  lat            21436 non-null  float64       \n",
      " 18  long           21436 non-null  float64       \n",
      " 19  sqft_living15  21436 non-null  int64         \n",
      " 20  sqft_lot15     21436 non-null  int64         \n",
      " 21  nivel          21436 non-null  object        \n",
      " 22  road           21215 non-null  object        \n",
      " 23  house_number   20252 non-null  object        \n",
      " 24  neighbourhood  7100 non-null   object        \n",
      " 25  city           8970 non-null   object        \n",
      " 26  state          21436 non-null  object        \n",
      " 27  is_waterfront  21436 non-null  object        \n",
      " 28  size_room      21436 non-null  object        \n",
      " 29  place_id       21436 non-null  float64       \n",
      " 30  osm_type       21436 non-null  object        \n",
      " 31  country        21436 non-null  object        \n",
      " 32  country_code   21436 non-null  object        \n",
      "dtypes: datetime64[ns](1), float64(6), int64(14), object(12)\n",
      "memory usage: 5.4+ MB\n"
     ]
    }
   ],
   "source": [
    "df_houses.info()"
   ]
  },
  {
   "cell_type": "code",
   "execution_count": 25,
   "metadata": {
    "ExecuteTime": {
     "end_time": "2021-02-09T20:24:12.018136Z",
     "start_time": "2021-02-09T20:24:12.014148Z"
    }
   },
   "outputs": [],
   "source": [
    "# Dimensões do dataframe\n",
    "def show_dimensions(df):\n",
    "    print( f'Numero de linhas: {df_houses.shape[0]}', end='\\n\\n' )\n",
    "    print( f'Numero de colunas: {df_houses.shape[1]}', end='\\n\\n' )\n",
    "    return None"
   ]
  },
  {
   "cell_type": "code",
   "execution_count": 8,
   "metadata": {
    "ExecuteTime": {
     "end_time": "2021-02-09T18:58:20.315897Z",
     "start_time": "2021-02-09T18:58:20.304925Z"
    }
   },
   "outputs": [],
   "source": [
    "# Crie uma nova coluna chamada: \"dormitory_type\"\n",
    "# se o valor da coluna \"bedrooms\" for igual a 1 => 'studio'\n",
    "# se o valor da coluna \"bedrooms\" for igual a 2 => 'apartment'\n",
    "# se o valor da coluna \"bedrooms\" for maior que 2 => 'house'\n",
    "\n",
    "df_houses['dormitory_type'] = df_houses['bedrooms'].apply(lambda tamanho:\n",
    "                                                         'studio' if tamanho == 1 else(\n",
    "                                                         'apartment' if tamanho == 2 else(\n",
    "                                                         'house' if tamanho > 2 else nan)))"
   ]
  },
  {
   "cell_type": "code",
   "execution_count": 11,
   "metadata": {
    "ExecuteTime": {
     "end_time": "2021-02-09T18:58:51.072911Z",
     "start_time": "2021-02-09T18:58:51.065930Z"
    }
   },
   "outputs": [
    {
     "data": {
      "text/plain": [
       "13587        house\n",
       "8514         house\n",
       "5794     apartment\n",
       "6677         house\n",
       "10221        house\n",
       "Name: dormitory_type, dtype: object"
      ]
     },
     "execution_count": 11,
     "metadata": {},
     "output_type": "execute_result"
    }
   ],
   "source": [
    "df_houses['dormitory_type'].sample(5)"
   ]
  },
  {
   "cell_type": "code",
   "execution_count": 12,
   "metadata": {
    "ExecuteTime": {
     "end_time": "2021-02-09T19:02:14.205885Z",
     "start_time": "2021-02-09T19:02:14.200898Z"
    }
   },
   "outputs": [],
   "source": [
    "from geopy.geocoders import Nominatim\n",
    "\n",
    "# Inicializando API\n",
    "geolocator = Nominatim( user_agent = 'geopiExercises' )\n",
    " "
   ]
  },
  {
   "cell_type": "code",
   "execution_count": 17,
   "metadata": {
    "ExecuteTime": {
     "end_time": "2021-02-09T19:04:31.340539Z",
     "start_time": "2021-02-09T19:04:30.392620Z"
    }
   },
   "outputs": [],
   "source": [
    "response = geolocator.reverse('47.511, -122.257')"
   ]
  },
  {
   "cell_type": "code",
   "execution_count": null,
   "metadata": {
    "ExecuteTime": {
     "end_time": "2021-02-09T19:04:44.365333Z",
     "start_time": "2021-02-09T19:04:44.360345Z"
    }
   },
   "outputs": [],
   "source": [
    "response.raw"
   ]
  },
  {
   "cell_type": "code",
   "execution_count": 19,
   "metadata": {
    "ExecuteTime": {
     "end_time": "2021-02-09T19:08:59.543444Z",
     "start_time": "2021-02-09T19:08:59.416727Z"
    }
   },
   "outputs": [],
   "source": [
    "import plotly.express as px"
   ]
  },
  {
   "cell_type": "code",
   "execution_count": null,
   "metadata": {
    "ExecuteTime": {
     "end_time": "2021-02-09T19:13:49.295856Z",
     "start_time": "2021-02-09T19:13:46.823548Z"
    }
   },
   "outputs": [],
   "source": [
    "# mapa\n",
    "houses_map = df_houses[['id', 'lat', 'long', 'price', 'nivel']].copy()\n",
    "\n",
    "fig = px.scatter_mapbox( houses_map, lat='lat', lon='long',\n",
    "                 color='nivel',\n",
    "                 size='price',\n",
    "                 color_continuous_scale = px.colors.diverging.Fall,\n",
    "                 size_max = 15,\n",
    "                 zoom=10)\n",
    "fig.update_layout(mapbox_style='open-street-map')\n",
    "fig.update_layout(height=600, margin={'r': 0, 'l': 0, 'b': 0, 't': 0})\n",
    "fig.show()"
   ]
  },
  {
   "cell_type": "code",
   "execution_count": null,
   "metadata": {},
   "outputs": [],
   "source": []
  }
 ],
 "metadata": {
  "kernelspec": {
   "display_name": "zero-ao-ds",
   "language": "python",
   "name": "zero-ao-ds"
  },
  "language_info": {
   "codemirror_mode": {
    "name": "ipython",
    "version": 3
   },
   "file_extension": ".py",
   "mimetype": "text/x-python",
   "name": "python",
   "nbconvert_exporter": "python",
   "pygments_lexer": "ipython3",
   "version": "3.8.3"
  }
 },
 "nbformat": 4,
 "nbformat_minor": 4
}
