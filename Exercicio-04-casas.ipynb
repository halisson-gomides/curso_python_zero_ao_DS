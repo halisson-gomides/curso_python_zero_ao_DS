{
 "cells": [
  {
   "cell_type": "markdown",
   "metadata": {},
   "source": [
    "### Exercícios da Aula 04\n",
    "---\n",
    " \n",
    "Author : Halisson S. Gomides - halisson.gomides@gmail.com\n",
    "\n",
    "Date : 29/01/2021\n",
    "\n",
    "---\n",
    "\n",
    "### Conjunto de dados House Sales in King County, USA\n",
    ">https://www.kaggle.com/harlfoxem/housesalesprediction\n",
    "\n",
    "\n",
    "### Respondendo perguntas do CEO:\n",
    "\n",
    "1. Adicione as seguintes informações ao imóvel:\n",
    "        - O nome da Rua\n",
    "        - O número do imóvel\n",
    "        - O nome do Bairro\n",
    "        - O nome da Cidade\n",
    "        - O nome do Estado\n",
    "        \n",
    "2. Onde tem essas informações: API chamada GEOPY\n",
    "3. Fazer o link com 'zipcode' e 'lat' e 'long'"
   ]
  },
  {
   "cell_type": "code",
   "execution_count": 1,
   "metadata": {
    "ExecuteTime": {
     "end_time": "2021-03-15T22:30:31.118745Z",
     "start_time": "2021-03-15T22:30:30.139698Z"
    }
   },
   "outputs": [],
   "source": [
    "import pandas as pd\n",
    "%config Completer.use_jedi = False "
   ]
  },
  {
   "cell_type": "code",
   "execution_count": 2,
   "metadata": {
    "ExecuteTime": {
     "end_time": "2021-03-15T22:30:32.182417Z",
     "start_time": "2021-03-15T22:30:32.035404Z"
    }
   },
   "outputs": [],
   "source": [
    "dfhouses = pd.read_csv('dados/originais/kc_house_data.csv.zip', \n",
    "                       parse_dates=['date'], \n",
    "                       infer_datetime_format=True,\n",
    "                      dtype={'condition': str })"
   ]
  },
  {
   "cell_type": "code",
   "execution_count": 3,
   "metadata": {
    "ExecuteTime": {
     "end_time": "2021-03-14T23:39:42.731700Z",
     "start_time": "2021-03-14T23:39:42.672706Z"
    }
   },
   "outputs": [
    {
     "data": {
      "text/html": [
       "<div>\n",
       "<style scoped>\n",
       "    .dataframe tbody tr th:only-of-type {\n",
       "        vertical-align: middle;\n",
       "    }\n",
       "\n",
       "    .dataframe tbody tr th {\n",
       "        vertical-align: top;\n",
       "    }\n",
       "\n",
       "    .dataframe thead th {\n",
       "        text-align: right;\n",
       "    }\n",
       "</style>\n",
       "<table border=\"1\" class=\"dataframe\">\n",
       "  <thead>\n",
       "    <tr style=\"text-align: right;\">\n",
       "      <th></th>\n",
       "      <th>id</th>\n",
       "      <th>date</th>\n",
       "      <th>price</th>\n",
       "      <th>bedrooms</th>\n",
       "      <th>bathrooms</th>\n",
       "      <th>sqft_living</th>\n",
       "      <th>sqft_lot</th>\n",
       "      <th>floors</th>\n",
       "      <th>waterfront</th>\n",
       "      <th>view</th>\n",
       "      <th>...</th>\n",
       "      <th>grade</th>\n",
       "      <th>sqft_above</th>\n",
       "      <th>sqft_basement</th>\n",
       "      <th>yr_built</th>\n",
       "      <th>yr_renovated</th>\n",
       "      <th>zipcode</th>\n",
       "      <th>lat</th>\n",
       "      <th>long</th>\n",
       "      <th>sqft_living15</th>\n",
       "      <th>sqft_lot15</th>\n",
       "    </tr>\n",
       "  </thead>\n",
       "  <tbody>\n",
       "    <tr>\n",
       "      <th>0</th>\n",
       "      <td>7129300520</td>\n",
       "      <td>2014-10-13</td>\n",
       "      <td>221900.0</td>\n",
       "      <td>3</td>\n",
       "      <td>1.00</td>\n",
       "      <td>1180</td>\n",
       "      <td>5650</td>\n",
       "      <td>1.0</td>\n",
       "      <td>0</td>\n",
       "      <td>0</td>\n",
       "      <td>...</td>\n",
       "      <td>7</td>\n",
       "      <td>1180</td>\n",
       "      <td>0</td>\n",
       "      <td>1955</td>\n",
       "      <td>0</td>\n",
       "      <td>98178</td>\n",
       "      <td>47.5112</td>\n",
       "      <td>-122.257</td>\n",
       "      <td>1340</td>\n",
       "      <td>5650</td>\n",
       "    </tr>\n",
       "    <tr>\n",
       "      <th>1</th>\n",
       "      <td>6414100192</td>\n",
       "      <td>2014-12-09</td>\n",
       "      <td>538000.0</td>\n",
       "      <td>3</td>\n",
       "      <td>2.25</td>\n",
       "      <td>2570</td>\n",
       "      <td>7242</td>\n",
       "      <td>2.0</td>\n",
       "      <td>0</td>\n",
       "      <td>0</td>\n",
       "      <td>...</td>\n",
       "      <td>7</td>\n",
       "      <td>2170</td>\n",
       "      <td>400</td>\n",
       "      <td>1951</td>\n",
       "      <td>1991</td>\n",
       "      <td>98125</td>\n",
       "      <td>47.7210</td>\n",
       "      <td>-122.319</td>\n",
       "      <td>1690</td>\n",
       "      <td>7639</td>\n",
       "    </tr>\n",
       "    <tr>\n",
       "      <th>2</th>\n",
       "      <td>5631500400</td>\n",
       "      <td>2015-02-25</td>\n",
       "      <td>180000.0</td>\n",
       "      <td>2</td>\n",
       "      <td>1.00</td>\n",
       "      <td>770</td>\n",
       "      <td>10000</td>\n",
       "      <td>1.0</td>\n",
       "      <td>0</td>\n",
       "      <td>0</td>\n",
       "      <td>...</td>\n",
       "      <td>6</td>\n",
       "      <td>770</td>\n",
       "      <td>0</td>\n",
       "      <td>1933</td>\n",
       "      <td>0</td>\n",
       "      <td>98028</td>\n",
       "      <td>47.7379</td>\n",
       "      <td>-122.233</td>\n",
       "      <td>2720</td>\n",
       "      <td>8062</td>\n",
       "    </tr>\n",
       "    <tr>\n",
       "      <th>3</th>\n",
       "      <td>2487200875</td>\n",
       "      <td>2014-12-09</td>\n",
       "      <td>604000.0</td>\n",
       "      <td>4</td>\n",
       "      <td>3.00</td>\n",
       "      <td>1960</td>\n",
       "      <td>5000</td>\n",
       "      <td>1.0</td>\n",
       "      <td>0</td>\n",
       "      <td>0</td>\n",
       "      <td>...</td>\n",
       "      <td>7</td>\n",
       "      <td>1050</td>\n",
       "      <td>910</td>\n",
       "      <td>1965</td>\n",
       "      <td>0</td>\n",
       "      <td>98136</td>\n",
       "      <td>47.5208</td>\n",
       "      <td>-122.393</td>\n",
       "      <td>1360</td>\n",
       "      <td>5000</td>\n",
       "    </tr>\n",
       "    <tr>\n",
       "      <th>4</th>\n",
       "      <td>1954400510</td>\n",
       "      <td>2015-02-18</td>\n",
       "      <td>510000.0</td>\n",
       "      <td>3</td>\n",
       "      <td>2.00</td>\n",
       "      <td>1680</td>\n",
       "      <td>8080</td>\n",
       "      <td>1.0</td>\n",
       "      <td>0</td>\n",
       "      <td>0</td>\n",
       "      <td>...</td>\n",
       "      <td>8</td>\n",
       "      <td>1680</td>\n",
       "      <td>0</td>\n",
       "      <td>1987</td>\n",
       "      <td>0</td>\n",
       "      <td>98074</td>\n",
       "      <td>47.6168</td>\n",
       "      <td>-122.045</td>\n",
       "      <td>1800</td>\n",
       "      <td>7503</td>\n",
       "    </tr>\n",
       "  </tbody>\n",
       "</table>\n",
       "<p>5 rows × 21 columns</p>\n",
       "</div>"
      ],
      "text/plain": [
       "           id       date     price  bedrooms  bathrooms  sqft_living  \\\n",
       "0  7129300520 2014-10-13  221900.0         3       1.00         1180   \n",
       "1  6414100192 2014-12-09  538000.0         3       2.25         2570   \n",
       "2  5631500400 2015-02-25  180000.0         2       1.00          770   \n",
       "3  2487200875 2014-12-09  604000.0         4       3.00         1960   \n",
       "4  1954400510 2015-02-18  510000.0         3       2.00         1680   \n",
       "\n",
       "   sqft_lot  floors  waterfront  view  ... grade  sqft_above  sqft_basement  \\\n",
       "0      5650     1.0           0     0  ...     7        1180              0   \n",
       "1      7242     2.0           0     0  ...     7        2170            400   \n",
       "2     10000     1.0           0     0  ...     6         770              0   \n",
       "3      5000     1.0           0     0  ...     7        1050            910   \n",
       "4      8080     1.0           0     0  ...     8        1680              0   \n",
       "\n",
       "   yr_built  yr_renovated  zipcode      lat     long  sqft_living15  \\\n",
       "0      1955             0    98178  47.5112 -122.257           1340   \n",
       "1      1951          1991    98125  47.7210 -122.319           1690   \n",
       "2      1933             0    98028  47.7379 -122.233           2720   \n",
       "3      1965             0    98136  47.5208 -122.393           1360   \n",
       "4      1987             0    98074  47.6168 -122.045           1800   \n",
       "\n",
       "   sqft_lot15  \n",
       "0        5650  \n",
       "1        7639  \n",
       "2        8062  \n",
       "3        5000  \n",
       "4        7503  \n",
       "\n",
       "[5 rows x 21 columns]"
      ]
     },
     "execution_count": 3,
     "metadata": {},
     "output_type": "execute_result"
    }
   ],
   "source": [
    "dfhouses.head()"
   ]
  },
  {
   "cell_type": "code",
   "execution_count": null,
   "metadata": {
    "ExecuteTime": {
     "end_time": "2021-02-08T13:56:21.448598Z",
     "start_time": "2021-02-08T13:56:21.431632Z"
    }
   },
   "outputs": [],
   "source": [
    "dfhouses.info()"
   ]
  },
  {
   "cell_type": "code",
   "execution_count": null,
   "metadata": {
    "ExecuteTime": {
     "end_time": "2021-01-12T13:38:11.613750Z",
     "start_time": "2021-01-12T13:38:10.435739Z"
    }
   },
   "outputs": [],
   "source": [
    "# Verificando se existem indices duplicados\n",
    "\n",
    "for k,v in dfhouses['id'].value_counts().to_dict().items():\n",
    "    if v > 1: \n",
    "        print(k, v)\n",
    "        print(dfhouses.loc[dfhouses['id'] == k])\n",
    "\n",
    "        "
   ]
  },
  {
   "cell_type": "code",
   "execution_count": 6,
   "metadata": {
    "ExecuteTime": {
     "end_time": "2021-03-15T22:35:34.942844Z",
     "start_time": "2021-03-15T22:35:34.776850Z"
    }
   },
   "outputs": [
    {
     "data": {
      "text/html": [
       "<div>\n",
       "<style scoped>\n",
       "    .dataframe tbody tr th:only-of-type {\n",
       "        vertical-align: middle;\n",
       "    }\n",
       "\n",
       "    .dataframe tbody tr th {\n",
       "        vertical-align: top;\n",
       "    }\n",
       "\n",
       "    .dataframe thead th {\n",
       "        text-align: right;\n",
       "    }\n",
       "</style>\n",
       "<table border=\"1\" class=\"dataframe\">\n",
       "  <thead>\n",
       "    <tr style=\"text-align: right;\">\n",
       "      <th></th>\n",
       "      <th>id</th>\n",
       "      <th>date</th>\n",
       "      <th>price</th>\n",
       "      <th>bedrooms</th>\n",
       "      <th>bathrooms</th>\n",
       "      <th>sqft_living</th>\n",
       "      <th>sqft_lot</th>\n",
       "      <th>floors</th>\n",
       "      <th>waterfront</th>\n",
       "      <th>view</th>\n",
       "      <th>...</th>\n",
       "      <th>grade</th>\n",
       "      <th>sqft_above</th>\n",
       "      <th>sqft_basement</th>\n",
       "      <th>yr_built</th>\n",
       "      <th>yr_renovated</th>\n",
       "      <th>zipcode</th>\n",
       "      <th>lat</th>\n",
       "      <th>long</th>\n",
       "      <th>sqft_living15</th>\n",
       "      <th>sqft_lot15</th>\n",
       "    </tr>\n",
       "  </thead>\n",
       "  <tbody>\n",
       "    <tr>\n",
       "      <th>17604</th>\n",
       "      <td>795000620</td>\n",
       "      <td>2015-03-11</td>\n",
       "      <td>157000.0</td>\n",
       "      <td>3</td>\n",
       "      <td>1.0</td>\n",
       "      <td>1080</td>\n",
       "      <td>6250</td>\n",
       "      <td>1.0</td>\n",
       "      <td>0</td>\n",
       "      <td>0</td>\n",
       "      <td>...</td>\n",
       "      <td>5</td>\n",
       "      <td>1080</td>\n",
       "      <td>0</td>\n",
       "      <td>1950</td>\n",
       "      <td>0</td>\n",
       "      <td>98168</td>\n",
       "      <td>47.5045</td>\n",
       "      <td>-122.33</td>\n",
       "      <td>1070</td>\n",
       "      <td>6250</td>\n",
       "    </tr>\n",
       "  </tbody>\n",
       "</table>\n",
       "<p>1 rows × 21 columns</p>\n",
       "</div>"
      ],
      "text/plain": [
       "              id       date     price  bedrooms  bathrooms  sqft_living  \\\n",
       "17604  795000620 2015-03-11  157000.0         3        1.0         1080   \n",
       "\n",
       "       sqft_lot  floors  waterfront  view  ... grade  sqft_above  \\\n",
       "17604      6250     1.0           0     0  ...     5        1080   \n",
       "\n",
       "       sqft_basement  yr_built  yr_renovated  zipcode      lat    long  \\\n",
       "17604              0      1950             0    98168  47.5045 -122.33   \n",
       "\n",
       "       sqft_living15  sqft_lot15  \n",
       "17604           1070        6250  \n",
       "\n",
       "[1 rows x 21 columns]"
      ]
     },
     "execution_count": 6,
     "metadata": {},
     "output_type": "execute_result"
    }
   ],
   "source": [
    "# Removendo as casas com IDs duplicados, mantendo apenas o registro com a data mais recente\n",
    "\n",
    "df_houses = dfhouses.sort_values(by=['id', 'date'])\n",
    "# df_order.head(10)\n",
    "df_houses.drop_duplicates(subset=['id'], keep='last', inplace=True)\n",
    "\n",
    "# testando o resultado com um id que eu sei que era duplicado\n",
    "df_houses.query('id == 795000620')"
   ]
  },
  {
   "cell_type": "markdown",
   "metadata": {},
   "source": [
    "#### 1. Qual a quantidade de imóveis por nível?\n",
    " - Nivel 0: Preço entre 0.00 e 321.950\n",
    " - Nivel 1: Preço entre 321.950 e 450.000\n",
    " - Nivel 2: Preço entre 450.000 e 645.000\n",
    " - Nivel 3: Preço Acima de 645.000"
   ]
  },
  {
   "cell_type": "code",
   "execution_count": null,
   "metadata": {
    "ExecuteTime": {
     "end_time": "2021-02-08T13:56:31.164917Z",
     "start_time": "2021-02-08T13:56:31.151952Z"
    }
   },
   "outputs": [],
   "source": [
    "# Estabelecendo nivel para as casas de acordo com o preço\n",
    "\n",
    "df_houses['nivel'] = df_houses['price'].apply(\n",
    "lambda preco:\n",
    "    'nivel_0' if 0 <= preco < 321950 else(\n",
    "        'nivel_1' if 321950 <= preco < 450000 else(\n",
    "            'nivel_2' if 450000 <= preco < 645000 else 'nivel_3'\n",
    "        )\n",
    "    )\n",
    ")"
   ]
  },
  {
   "cell_type": "code",
   "execution_count": null,
   "metadata": {
    "ExecuteTime": {
     "end_time": "2021-02-05T16:26:59.189652Z",
     "start_time": "2021-02-05T16:26:59.180676Z"
    }
   },
   "outputs": [],
   "source": [
    "df_houses['nivel'].value_counts()"
   ]
  },
  {
   "cell_type": "code",
   "execution_count": null,
   "metadata": {
    "ExecuteTime": {
     "end_time": "2021-02-05T16:30:01.432636Z",
     "start_time": "2021-02-05T16:29:51.091349Z"
    }
   },
   "outputs": [],
   "source": [
    "# !pip install geopy\n",
    "# !pip install tqdm"
   ]
  },
  {
   "cell_type": "code",
   "execution_count": 3,
   "metadata": {
    "ExecuteTime": {
     "end_time": "2021-03-15T22:30:41.756252Z",
     "start_time": "2021-03-15T22:30:41.460236Z"
    }
   },
   "outputs": [],
   "source": [
    "from geopy.geocoders import Nominatim\n",
    "from geopy.exc import GeocoderTimedOut"
   ]
  },
  {
   "cell_type": "code",
   "execution_count": 4,
   "metadata": {
    "ExecuteTime": {
     "end_time": "2021-03-15T22:30:42.380970Z",
     "start_time": "2021-03-15T22:30:42.376965Z"
    }
   },
   "outputs": [],
   "source": [
    "# Inicializando Nominatim API\n",
    "\n",
    "geolocator = Nominatim( user_agent='geoapiExercicises' )"
   ]
  },
  {
   "cell_type": "code",
   "execution_count": null,
   "metadata": {
    "ExecuteTime": {
     "end_time": "2021-02-06T00:55:55.821103Z",
     "start_time": "2021-02-06T00:55:54.986096Z"
    }
   },
   "outputs": [],
   "source": [
    "# Testando com uma geolocalização aleatoria\n",
    "\n",
    "response = geolocator.reverse('47.5045,-122.33')\n",
    "response.raw"
   ]
  },
  {
   "cell_type": "markdown",
   "metadata": {},
   "source": [
    "#### 2. Adicione as seguintes informações ao imóvel:\n",
    " - Nome da Rua\n",
    " - Número do imóvel\n",
    " - O nome do Bairro\n",
    " - O nome da cidade\n",
    " - O nome do estado"
   ]
  },
  {
   "cell_type": "code",
   "execution_count": 9,
   "metadata": {
    "ExecuteTime": {
     "end_time": "2021-03-15T22:38:45.018649Z",
     "start_time": "2021-03-15T22:38:45.006654Z"
    }
   },
   "outputs": [],
   "source": [
    "#  Criando novas colunas vazias no dataframe\n",
    "import numpy as np\n",
    "\n",
    "df_houses['road'] = np.nan\n",
    "df_houses['house_number'] = np.nan\n",
    "df_houses['neighbourhood'] = np.nan\n",
    "df_houses['city'] = np.nan\n",
    "df_houses['state'] = np.nan"
   ]
  },
  {
   "cell_type": "code",
   "execution_count": null,
   "metadata": {
    "ExecuteTime": {
     "end_time": "2021-02-05T16:28:36.404349Z",
     "start_time": "2021-02-05T16:28:36.372435Z"
    }
   },
   "outputs": [],
   "source": [
    "df_houses.tail()"
   ]
  },
  {
   "cell_type": "code",
   "execution_count": null,
   "metadata": {
    "ExecuteTime": {
     "end_time": "2021-02-08T13:57:08.764485Z",
     "start_time": "2021-02-08T13:57:08.759500Z"
    }
   },
   "outputs": [],
   "source": [
    "# verificando a integridade das colunas lat e long\n",
    "\n",
    "print(df_houses['lat'].isnull().sum())\n",
    "print(df_houses['long'].isnull().sum())"
   ]
  },
  {
   "cell_type": "code",
   "execution_count": null,
   "metadata": {
    "ExecuteTime": {
     "end_time": "2021-02-08T16:57:05.582836Z",
     "start_time": "2021-02-08T13:57:33.416857Z"
    }
   },
   "outputs": [],
   "source": [
    "# Mostrando barra de progresso \n",
    "from tqdm.notebook import trange\n",
    "\n",
    "for i in trange( len(df_houses) ):\n",
    "    \n",
    "    # Implementando cache caso tenha que rodar de novo o laço for usando a coluna \"house_number\"\n",
    "    if pd.isna(df_houses.iloc[i, 23]) == False:\n",
    "        continue\n",
    "    \n",
    "    # Logando o percentual de varredura do dataframe    \n",
    "#     perc = (i/len(df_houses))*100\n",
    "#     if perc >= 1 and round(perc,2) % 2 == 0:\n",
    "#         print(f'{perc:.3f}%')\n",
    "    \n",
    "    # Montando a string de busca com os dados de 'lat' e 'long'\n",
    "    query = str(df_houses.iloc[i, 17]) + ',' + str(df_houses.iloc[i, 18])\n",
    "    \n",
    "    # API request\n",
    "    with ThreadPoolExecutor(size) as thp:\n",
    "        try:\n",
    "            response = geolocator.reverse(query)\n",
    "        except GeocoderTimedOut:\n",
    "            continue\n",
    "    \n",
    "    # Popula o dataframe com os dados da API\n",
    "    if 'road' in response.raw['address']:\n",
    "        df_houses.iloc[i, 22] = response.raw['address']['road']\n",
    "    \n",
    "    if 'house_number' in response.raw['address']:\n",
    "        df_houses.iloc[i, 23] = response.raw['address']['house_number']\n",
    "        \n",
    "    if 'neighbourhood' in response.raw['address']:\n",
    "        df_houses.iloc[i, 24] = response.raw['address']['neighbourhood']\n",
    "        \n",
    "    if 'city' in response.raw['address']:\n",
    "        df_houses.iloc[i, 25] = response.raw['address']['city']\n",
    "        \n",
    "    if 'state' in response.raw['address']:\n",
    "        df_houses.iloc[i, 26] = response.raw['address']['state']\n",
    "        "
   ]
  },
  {
   "cell_type": "code",
   "execution_count": 7,
   "metadata": {
    "ExecuteTime": {
     "end_time": "2021-03-15T22:35:39.464846Z",
     "start_time": "2021-03-15T22:35:39.453848Z"
    }
   },
   "outputs": [
    {
     "data": {
      "text/plain": [
       "lat     47.5112\n",
       "long   -122.257\n",
       "Name: 0, dtype: object"
      ]
     },
     "execution_count": 7,
     "metadata": {},
     "output_type": "execute_result"
    }
   ],
   "source": [
    "df_houses.loc[0,['lat','long']]"
   ]
  },
  {
   "cell_type": "markdown",
   "metadata": {},
   "source": [
    "### Agora executando de forma concorrente utilizando multithreading\n",
    "\n",
    "Conceitos utilizados: \n",
    "- https://medium.com/fintechexplained/advanced-python-concurrency-and-parallelism-82e378f26ced\n",
    "- https://testdriven.io/blog/building-a-concurrent-web-scraper-with-python-and-selenium/"
   ]
  },
  {
   "cell_type": "code",
   "execution_count": 10,
   "metadata": {
    "ExecuteTime": {
     "end_time": "2021-03-15T22:38:55.455371Z",
     "start_time": "2021-03-15T22:38:49.235870Z"
    }
   },
   "outputs": [
    {
     "name": "stderr",
     "output_type": "stream",
     "text": [
      "  0%|                                                                                        | 0/21436 [00:02<?, ?it/s]\n"
     ]
    },
    {
     "ename": "GeocoderUnavailable",
     "evalue": "HTTPSConnectionPool(host='nominatim.openstreetmap.org', port=443): Max retries exceeded with url: /reverse?lat=47.3262&lon=-122.214&format=json&addressdetails=1 (Caused by ConnectTimeoutError(<urllib3.connection.HTTPSConnection object at 0x00000214803FE2E0>, 'Connection to nominatim.openstreetmap.org timed out. (connect timeout=1)'))",
     "output_type": "error",
     "traceback": [
      "\u001b[1;31m---------------------------------------------------------------------------\u001b[0m",
      "\u001b[1;31mtimeout\u001b[0m                                   Traceback (most recent call last)",
      "\u001b[1;32m~\\anaconda3\\envs\\zero-ao-ds\\lib\\site-packages\\urllib3\\connection.py\u001b[0m in \u001b[0;36m_new_conn\u001b[1;34m(self)\u001b[0m\n\u001b[0;32m    168\u001b[0m         \u001b[1;32mtry\u001b[0m\u001b[1;33m:\u001b[0m\u001b[1;33m\u001b[0m\u001b[1;33m\u001b[0m\u001b[0m\n\u001b[1;32m--> 169\u001b[1;33m             conn = connection.create_connection(\n\u001b[0m\u001b[0;32m    170\u001b[0m                 \u001b[1;33m(\u001b[0m\u001b[0mself\u001b[0m\u001b[1;33m.\u001b[0m\u001b[0m_dns_host\u001b[0m\u001b[1;33m,\u001b[0m \u001b[0mself\u001b[0m\u001b[1;33m.\u001b[0m\u001b[0mport\u001b[0m\u001b[1;33m)\u001b[0m\u001b[1;33m,\u001b[0m \u001b[0mself\u001b[0m\u001b[1;33m.\u001b[0m\u001b[0mtimeout\u001b[0m\u001b[1;33m,\u001b[0m \u001b[1;33m**\u001b[0m\u001b[0mextra_kw\u001b[0m\u001b[1;33m\u001b[0m\u001b[1;33m\u001b[0m\u001b[0m\n",
      "\u001b[1;32m~\\anaconda3\\envs\\zero-ao-ds\\lib\\site-packages\\urllib3\\util\\connection.py\u001b[0m in \u001b[0;36mcreate_connection\u001b[1;34m(address, timeout, source_address, socket_options)\u001b[0m\n\u001b[0;32m     95\u001b[0m     \u001b[1;32mif\u001b[0m \u001b[0merr\u001b[0m \u001b[1;32mis\u001b[0m \u001b[1;32mnot\u001b[0m \u001b[1;32mNone\u001b[0m\u001b[1;33m:\u001b[0m\u001b[1;33m\u001b[0m\u001b[1;33m\u001b[0m\u001b[0m\n\u001b[1;32m---> 96\u001b[1;33m         \u001b[1;32mraise\u001b[0m \u001b[0merr\u001b[0m\u001b[1;33m\u001b[0m\u001b[1;33m\u001b[0m\u001b[0m\n\u001b[0m\u001b[0;32m     97\u001b[0m \u001b[1;33m\u001b[0m\u001b[0m\n",
      "\u001b[1;32m~\\anaconda3\\envs\\zero-ao-ds\\lib\\site-packages\\urllib3\\util\\connection.py\u001b[0m in \u001b[0;36mcreate_connection\u001b[1;34m(address, timeout, source_address, socket_options)\u001b[0m\n\u001b[0;32m     85\u001b[0m                 \u001b[0msock\u001b[0m\u001b[1;33m.\u001b[0m\u001b[0mbind\u001b[0m\u001b[1;33m(\u001b[0m\u001b[0msource_address\u001b[0m\u001b[1;33m)\u001b[0m\u001b[1;33m\u001b[0m\u001b[1;33m\u001b[0m\u001b[0m\n\u001b[1;32m---> 86\u001b[1;33m             \u001b[0msock\u001b[0m\u001b[1;33m.\u001b[0m\u001b[0mconnect\u001b[0m\u001b[1;33m(\u001b[0m\u001b[0msa\u001b[0m\u001b[1;33m)\u001b[0m\u001b[1;33m\u001b[0m\u001b[1;33m\u001b[0m\u001b[0m\n\u001b[0m\u001b[0;32m     87\u001b[0m             \u001b[1;32mreturn\u001b[0m \u001b[0msock\u001b[0m\u001b[1;33m\u001b[0m\u001b[1;33m\u001b[0m\u001b[0m\n",
      "\u001b[1;31mtimeout\u001b[0m: timed out",
      "\nDuring handling of the above exception, another exception occurred:\n",
      "\u001b[1;31mConnectTimeoutError\u001b[0m                       Traceback (most recent call last)",
      "\u001b[1;32m~\\anaconda3\\envs\\zero-ao-ds\\lib\\site-packages\\urllib3\\connectionpool.py\u001b[0m in \u001b[0;36murlopen\u001b[1;34m(self, method, url, body, headers, retries, redirect, assert_same_host, timeout, pool_timeout, release_conn, chunked, body_pos, **response_kw)\u001b[0m\n\u001b[0;32m    698\u001b[0m             \u001b[1;31m# Make the request on the httplib connection object.\u001b[0m\u001b[1;33m\u001b[0m\u001b[1;33m\u001b[0m\u001b[1;33m\u001b[0m\u001b[0m\n\u001b[1;32m--> 699\u001b[1;33m             httplib_response = self._make_request(\n\u001b[0m\u001b[0;32m    700\u001b[0m                 \u001b[0mconn\u001b[0m\u001b[1;33m,\u001b[0m\u001b[1;33m\u001b[0m\u001b[1;33m\u001b[0m\u001b[0m\n",
      "\u001b[1;32m~\\anaconda3\\envs\\zero-ao-ds\\lib\\site-packages\\urllib3\\connectionpool.py\u001b[0m in \u001b[0;36m_make_request\u001b[1;34m(self, conn, method, url, timeout, chunked, **httplib_request_kw)\u001b[0m\n\u001b[0;32m    381\u001b[0m         \u001b[1;32mtry\u001b[0m\u001b[1;33m:\u001b[0m\u001b[1;33m\u001b[0m\u001b[1;33m\u001b[0m\u001b[0m\n\u001b[1;32m--> 382\u001b[1;33m             \u001b[0mself\u001b[0m\u001b[1;33m.\u001b[0m\u001b[0m_validate_conn\u001b[0m\u001b[1;33m(\u001b[0m\u001b[0mconn\u001b[0m\u001b[1;33m)\u001b[0m\u001b[1;33m\u001b[0m\u001b[1;33m\u001b[0m\u001b[0m\n\u001b[0m\u001b[0;32m    383\u001b[0m         \u001b[1;32mexcept\u001b[0m \u001b[1;33m(\u001b[0m\u001b[0mSocketTimeout\u001b[0m\u001b[1;33m,\u001b[0m \u001b[0mBaseSSLError\u001b[0m\u001b[1;33m)\u001b[0m \u001b[1;32mas\u001b[0m \u001b[0me\u001b[0m\u001b[1;33m:\u001b[0m\u001b[1;33m\u001b[0m\u001b[1;33m\u001b[0m\u001b[0m\n",
      "\u001b[1;32m~\\anaconda3\\envs\\zero-ao-ds\\lib\\site-packages\\urllib3\\connectionpool.py\u001b[0m in \u001b[0;36m_validate_conn\u001b[1;34m(self, conn)\u001b[0m\n\u001b[0;32m   1009\u001b[0m         \u001b[1;32mif\u001b[0m \u001b[1;32mnot\u001b[0m \u001b[0mgetattr\u001b[0m\u001b[1;33m(\u001b[0m\u001b[0mconn\u001b[0m\u001b[1;33m,\u001b[0m \u001b[1;34m\"sock\"\u001b[0m\u001b[1;33m,\u001b[0m \u001b[1;32mNone\u001b[0m\u001b[1;33m)\u001b[0m\u001b[1;33m:\u001b[0m  \u001b[1;31m# AppEngine might not have  `.sock`\u001b[0m\u001b[1;33m\u001b[0m\u001b[1;33m\u001b[0m\u001b[0m\n\u001b[1;32m-> 1010\u001b[1;33m             \u001b[0mconn\u001b[0m\u001b[1;33m.\u001b[0m\u001b[0mconnect\u001b[0m\u001b[1;33m(\u001b[0m\u001b[1;33m)\u001b[0m\u001b[1;33m\u001b[0m\u001b[1;33m\u001b[0m\u001b[0m\n\u001b[0m\u001b[0;32m   1011\u001b[0m \u001b[1;33m\u001b[0m\u001b[0m\n",
      "\u001b[1;32m~\\anaconda3\\envs\\zero-ao-ds\\lib\\site-packages\\urllib3\\connection.py\u001b[0m in \u001b[0;36mconnect\u001b[1;34m(self)\u001b[0m\n\u001b[0;32m    352\u001b[0m         \u001b[1;31m# Add certificate verification\u001b[0m\u001b[1;33m\u001b[0m\u001b[1;33m\u001b[0m\u001b[1;33m\u001b[0m\u001b[0m\n\u001b[1;32m--> 353\u001b[1;33m         \u001b[0mconn\u001b[0m \u001b[1;33m=\u001b[0m \u001b[0mself\u001b[0m\u001b[1;33m.\u001b[0m\u001b[0m_new_conn\u001b[0m\u001b[1;33m(\u001b[0m\u001b[1;33m)\u001b[0m\u001b[1;33m\u001b[0m\u001b[1;33m\u001b[0m\u001b[0m\n\u001b[0m\u001b[0;32m    354\u001b[0m         \u001b[0mhostname\u001b[0m \u001b[1;33m=\u001b[0m \u001b[0mself\u001b[0m\u001b[1;33m.\u001b[0m\u001b[0mhost\u001b[0m\u001b[1;33m\u001b[0m\u001b[1;33m\u001b[0m\u001b[0m\n",
      "\u001b[1;32m~\\anaconda3\\envs\\zero-ao-ds\\lib\\site-packages\\urllib3\\connection.py\u001b[0m in \u001b[0;36m_new_conn\u001b[1;34m(self)\u001b[0m\n\u001b[0;32m    173\u001b[0m         \u001b[1;32mexcept\u001b[0m \u001b[0mSocketTimeout\u001b[0m\u001b[1;33m:\u001b[0m\u001b[1;33m\u001b[0m\u001b[1;33m\u001b[0m\u001b[0m\n\u001b[1;32m--> 174\u001b[1;33m             raise ConnectTimeoutError(\n\u001b[0m\u001b[0;32m    175\u001b[0m                 \u001b[0mself\u001b[0m\u001b[1;33m,\u001b[0m\u001b[1;33m\u001b[0m\u001b[1;33m\u001b[0m\u001b[0m\n",
      "\u001b[1;31mConnectTimeoutError\u001b[0m: (<urllib3.connection.HTTPSConnection object at 0x00000214803FE2E0>, 'Connection to nominatim.openstreetmap.org timed out. (connect timeout=1)')",
      "\nDuring handling of the above exception, another exception occurred:\n",
      "\u001b[1;31mMaxRetryError\u001b[0m                             Traceback (most recent call last)",
      "\u001b[1;32m~\\anaconda3\\envs\\zero-ao-ds\\lib\\site-packages\\requests\\adapters.py\u001b[0m in \u001b[0;36msend\u001b[1;34m(self, request, stream, timeout, verify, cert, proxies)\u001b[0m\n\u001b[0;32m    438\u001b[0m             \u001b[1;32mif\u001b[0m \u001b[1;32mnot\u001b[0m \u001b[0mchunked\u001b[0m\u001b[1;33m:\u001b[0m\u001b[1;33m\u001b[0m\u001b[1;33m\u001b[0m\u001b[0m\n\u001b[1;32m--> 439\u001b[1;33m                 resp = conn.urlopen(\n\u001b[0m\u001b[0;32m    440\u001b[0m                     \u001b[0mmethod\u001b[0m\u001b[1;33m=\u001b[0m\u001b[0mrequest\u001b[0m\u001b[1;33m.\u001b[0m\u001b[0mmethod\u001b[0m\u001b[1;33m,\u001b[0m\u001b[1;33m\u001b[0m\u001b[1;33m\u001b[0m\u001b[0m\n",
      "\u001b[1;32m~\\anaconda3\\envs\\zero-ao-ds\\lib\\site-packages\\urllib3\\connectionpool.py\u001b[0m in \u001b[0;36murlopen\u001b[1;34m(self, method, url, body, headers, retries, redirect, assert_same_host, timeout, pool_timeout, release_conn, chunked, body_pos, **response_kw)\u001b[0m\n\u001b[0;32m    782\u001b[0m             )\n\u001b[1;32m--> 783\u001b[1;33m             return self.urlopen(\n\u001b[0m\u001b[0;32m    784\u001b[0m                 \u001b[0mmethod\u001b[0m\u001b[1;33m,\u001b[0m\u001b[1;33m\u001b[0m\u001b[1;33m\u001b[0m\u001b[0m\n",
      "\u001b[1;32m~\\anaconda3\\envs\\zero-ao-ds\\lib\\site-packages\\urllib3\\connectionpool.py\u001b[0m in \u001b[0;36murlopen\u001b[1;34m(self, method, url, body, headers, retries, redirect, assert_same_host, timeout, pool_timeout, release_conn, chunked, body_pos, **response_kw)\u001b[0m\n\u001b[0;32m    782\u001b[0m             )\n\u001b[1;32m--> 783\u001b[1;33m             return self.urlopen(\n\u001b[0m\u001b[0;32m    784\u001b[0m                 \u001b[0mmethod\u001b[0m\u001b[1;33m,\u001b[0m\u001b[1;33m\u001b[0m\u001b[1;33m\u001b[0m\u001b[0m\n",
      "\u001b[1;32m~\\anaconda3\\envs\\zero-ao-ds\\lib\\site-packages\\urllib3\\connectionpool.py\u001b[0m in \u001b[0;36murlopen\u001b[1;34m(self, method, url, body, headers, retries, redirect, assert_same_host, timeout, pool_timeout, release_conn, chunked, body_pos, **response_kw)\u001b[0m\n\u001b[0;32m    754\u001b[0m \u001b[1;33m\u001b[0m\u001b[0m\n\u001b[1;32m--> 755\u001b[1;33m             retries = retries.increment(\n\u001b[0m\u001b[0;32m    756\u001b[0m                 \u001b[0mmethod\u001b[0m\u001b[1;33m,\u001b[0m \u001b[0murl\u001b[0m\u001b[1;33m,\u001b[0m \u001b[0merror\u001b[0m\u001b[1;33m=\u001b[0m\u001b[0me\u001b[0m\u001b[1;33m,\u001b[0m \u001b[0m_pool\u001b[0m\u001b[1;33m=\u001b[0m\u001b[0mself\u001b[0m\u001b[1;33m,\u001b[0m \u001b[0m_stacktrace\u001b[0m\u001b[1;33m=\u001b[0m\u001b[0msys\u001b[0m\u001b[1;33m.\u001b[0m\u001b[0mexc_info\u001b[0m\u001b[1;33m(\u001b[0m\u001b[1;33m)\u001b[0m\u001b[1;33m[\u001b[0m\u001b[1;36m2\u001b[0m\u001b[1;33m]\u001b[0m\u001b[1;33m\u001b[0m\u001b[1;33m\u001b[0m\u001b[0m\n",
      "\u001b[1;32m~\\anaconda3\\envs\\zero-ao-ds\\lib\\site-packages\\urllib3\\util\\retry.py\u001b[0m in \u001b[0;36mincrement\u001b[1;34m(self, method, url, response, error, _pool, _stacktrace)\u001b[0m\n\u001b[0;32m    572\u001b[0m         \u001b[1;32mif\u001b[0m \u001b[0mnew_retry\u001b[0m\u001b[1;33m.\u001b[0m\u001b[0mis_exhausted\u001b[0m\u001b[1;33m(\u001b[0m\u001b[1;33m)\u001b[0m\u001b[1;33m:\u001b[0m\u001b[1;33m\u001b[0m\u001b[1;33m\u001b[0m\u001b[0m\n\u001b[1;32m--> 573\u001b[1;33m             \u001b[1;32mraise\u001b[0m \u001b[0mMaxRetryError\u001b[0m\u001b[1;33m(\u001b[0m\u001b[0m_pool\u001b[0m\u001b[1;33m,\u001b[0m \u001b[0murl\u001b[0m\u001b[1;33m,\u001b[0m \u001b[0merror\u001b[0m \u001b[1;32mor\u001b[0m \u001b[0mResponseError\u001b[0m\u001b[1;33m(\u001b[0m\u001b[0mcause\u001b[0m\u001b[1;33m)\u001b[0m\u001b[1;33m)\u001b[0m\u001b[1;33m\u001b[0m\u001b[1;33m\u001b[0m\u001b[0m\n\u001b[0m\u001b[0;32m    574\u001b[0m \u001b[1;33m\u001b[0m\u001b[0m\n",
      "\u001b[1;31mMaxRetryError\u001b[0m: HTTPSConnectionPool(host='nominatim.openstreetmap.org', port=443): Max retries exceeded with url: /reverse?lat=47.3262&lon=-122.214&format=json&addressdetails=1 (Caused by ConnectTimeoutError(<urllib3.connection.HTTPSConnection object at 0x00000214803FE2E0>, 'Connection to nominatim.openstreetmap.org timed out. (connect timeout=1)'))",
      "\nDuring handling of the above exception, another exception occurred:\n",
      "\u001b[1;31mConnectTimeout\u001b[0m                            Traceback (most recent call last)",
      "\u001b[1;32m~\\anaconda3\\envs\\zero-ao-ds\\lib\\site-packages\\geopy\\adapters.py\u001b[0m in \u001b[0;36m_request\u001b[1;34m(self, url, timeout, headers)\u001b[0m\n\u001b[0;32m    386\u001b[0m         \u001b[1;32mtry\u001b[0m\u001b[1;33m:\u001b[0m\u001b[1;33m\u001b[0m\u001b[1;33m\u001b[0m\u001b[0m\n\u001b[1;32m--> 387\u001b[1;33m             \u001b[0mresp\u001b[0m \u001b[1;33m=\u001b[0m \u001b[0mself\u001b[0m\u001b[1;33m.\u001b[0m\u001b[0msession\u001b[0m\u001b[1;33m.\u001b[0m\u001b[0mget\u001b[0m\u001b[1;33m(\u001b[0m\u001b[0murl\u001b[0m\u001b[1;33m,\u001b[0m \u001b[0mtimeout\u001b[0m\u001b[1;33m=\u001b[0m\u001b[0mtimeout\u001b[0m\u001b[1;33m,\u001b[0m \u001b[0mheaders\u001b[0m\u001b[1;33m=\u001b[0m\u001b[0mheaders\u001b[0m\u001b[1;33m)\u001b[0m\u001b[1;33m\u001b[0m\u001b[1;33m\u001b[0m\u001b[0m\n\u001b[0m\u001b[0;32m    388\u001b[0m         \u001b[1;32mexcept\u001b[0m \u001b[0mException\u001b[0m \u001b[1;32mas\u001b[0m \u001b[0merror\u001b[0m\u001b[1;33m:\u001b[0m\u001b[1;33m\u001b[0m\u001b[1;33m\u001b[0m\u001b[0m\n",
      "\u001b[1;32m~\\anaconda3\\envs\\zero-ao-ds\\lib\\site-packages\\requests\\sessions.py\u001b[0m in \u001b[0;36mget\u001b[1;34m(self, url, **kwargs)\u001b[0m\n\u001b[0;32m    554\u001b[0m         \u001b[0mkwargs\u001b[0m\u001b[1;33m.\u001b[0m\u001b[0msetdefault\u001b[0m\u001b[1;33m(\u001b[0m\u001b[1;34m'allow_redirects'\u001b[0m\u001b[1;33m,\u001b[0m \u001b[1;32mTrue\u001b[0m\u001b[1;33m)\u001b[0m\u001b[1;33m\u001b[0m\u001b[1;33m\u001b[0m\u001b[0m\n\u001b[1;32m--> 555\u001b[1;33m         \u001b[1;32mreturn\u001b[0m \u001b[0mself\u001b[0m\u001b[1;33m.\u001b[0m\u001b[0mrequest\u001b[0m\u001b[1;33m(\u001b[0m\u001b[1;34m'GET'\u001b[0m\u001b[1;33m,\u001b[0m \u001b[0murl\u001b[0m\u001b[1;33m,\u001b[0m \u001b[1;33m**\u001b[0m\u001b[0mkwargs\u001b[0m\u001b[1;33m)\u001b[0m\u001b[1;33m\u001b[0m\u001b[1;33m\u001b[0m\u001b[0m\n\u001b[0m\u001b[0;32m    556\u001b[0m \u001b[1;33m\u001b[0m\u001b[0m\n",
      "\u001b[1;32m~\\anaconda3\\envs\\zero-ao-ds\\lib\\site-packages\\requests\\sessions.py\u001b[0m in \u001b[0;36mrequest\u001b[1;34m(self, method, url, params, data, headers, cookies, files, auth, timeout, allow_redirects, proxies, hooks, stream, verify, cert, json)\u001b[0m\n\u001b[0;32m    541\u001b[0m         \u001b[0msend_kwargs\u001b[0m\u001b[1;33m.\u001b[0m\u001b[0mupdate\u001b[0m\u001b[1;33m(\u001b[0m\u001b[0msettings\u001b[0m\u001b[1;33m)\u001b[0m\u001b[1;33m\u001b[0m\u001b[1;33m\u001b[0m\u001b[0m\n\u001b[1;32m--> 542\u001b[1;33m         \u001b[0mresp\u001b[0m \u001b[1;33m=\u001b[0m \u001b[0mself\u001b[0m\u001b[1;33m.\u001b[0m\u001b[0msend\u001b[0m\u001b[1;33m(\u001b[0m\u001b[0mprep\u001b[0m\u001b[1;33m,\u001b[0m \u001b[1;33m**\u001b[0m\u001b[0msend_kwargs\u001b[0m\u001b[1;33m)\u001b[0m\u001b[1;33m\u001b[0m\u001b[1;33m\u001b[0m\u001b[0m\n\u001b[0m\u001b[0;32m    543\u001b[0m \u001b[1;33m\u001b[0m\u001b[0m\n",
      "\u001b[1;32m~\\anaconda3\\envs\\zero-ao-ds\\lib\\site-packages\\requests\\sessions.py\u001b[0m in \u001b[0;36msend\u001b[1;34m(self, request, **kwargs)\u001b[0m\n\u001b[0;32m    654\u001b[0m         \u001b[1;31m# Send the request\u001b[0m\u001b[1;33m\u001b[0m\u001b[1;33m\u001b[0m\u001b[1;33m\u001b[0m\u001b[0m\n\u001b[1;32m--> 655\u001b[1;33m         \u001b[0mr\u001b[0m \u001b[1;33m=\u001b[0m \u001b[0madapter\u001b[0m\u001b[1;33m.\u001b[0m\u001b[0msend\u001b[0m\u001b[1;33m(\u001b[0m\u001b[0mrequest\u001b[0m\u001b[1;33m,\u001b[0m \u001b[1;33m**\u001b[0m\u001b[0mkwargs\u001b[0m\u001b[1;33m)\u001b[0m\u001b[1;33m\u001b[0m\u001b[1;33m\u001b[0m\u001b[0m\n\u001b[0m\u001b[0;32m    656\u001b[0m \u001b[1;33m\u001b[0m\u001b[0m\n",
      "\u001b[1;32m~\\anaconda3\\envs\\zero-ao-ds\\lib\\site-packages\\requests\\adapters.py\u001b[0m in \u001b[0;36msend\u001b[1;34m(self, request, stream, timeout, verify, cert, proxies)\u001b[0m\n\u001b[0;32m    503\u001b[0m                 \u001b[1;32mif\u001b[0m \u001b[1;32mnot\u001b[0m \u001b[0misinstance\u001b[0m\u001b[1;33m(\u001b[0m\u001b[0me\u001b[0m\u001b[1;33m.\u001b[0m\u001b[0mreason\u001b[0m\u001b[1;33m,\u001b[0m \u001b[0mNewConnectionError\u001b[0m\u001b[1;33m)\u001b[0m\u001b[1;33m:\u001b[0m\u001b[1;33m\u001b[0m\u001b[1;33m\u001b[0m\u001b[0m\n\u001b[1;32m--> 504\u001b[1;33m                     \u001b[1;32mraise\u001b[0m \u001b[0mConnectTimeout\u001b[0m\u001b[1;33m(\u001b[0m\u001b[0me\u001b[0m\u001b[1;33m,\u001b[0m \u001b[0mrequest\u001b[0m\u001b[1;33m=\u001b[0m\u001b[0mrequest\u001b[0m\u001b[1;33m)\u001b[0m\u001b[1;33m\u001b[0m\u001b[1;33m\u001b[0m\u001b[0m\n\u001b[0m\u001b[0;32m    505\u001b[0m \u001b[1;33m\u001b[0m\u001b[0m\n",
      "\u001b[1;31mConnectTimeout\u001b[0m: HTTPSConnectionPool(host='nominatim.openstreetmap.org', port=443): Max retries exceeded with url: /reverse?lat=47.3262&lon=-122.214&format=json&addressdetails=1 (Caused by ConnectTimeoutError(<urllib3.connection.HTTPSConnection object at 0x00000214803FE2E0>, 'Connection to nominatim.openstreetmap.org timed out. (connect timeout=1)'))",
      "\nDuring handling of the above exception, another exception occurred:\n",
      "\u001b[1;31mGeocoderUnavailable\u001b[0m                       Traceback (most recent call last)",
      "\u001b[1;32m<ipython-input-10-1aa9cefcbf76>\u001b[0m in \u001b[0;36m<module>\u001b[1;34m\u001b[0m\n\u001b[0;32m     30\u001b[0m     \u001b[1;31m# Popula o dataframe com os dados da API\u001b[0m\u001b[1;33m\u001b[0m\u001b[1;33m\u001b[0m\u001b[1;33m\u001b[0m\u001b[0m\n\u001b[0;32m     31\u001b[0m \u001b[1;33m\u001b[0m\u001b[0m\n\u001b[1;32m---> 32\u001b[1;33m     \u001b[0mdf_houses\u001b[0m\u001b[1;33m[\u001b[0m\u001b[1;34m'road'\u001b[0m\u001b[1;33m]\u001b[0m \u001b[1;33m=\u001b[0m \u001b[0mlist\u001b[0m\u001b[1;33m(\u001b[0m\u001b[0mtqdm\u001b[0m\u001b[1;33m.\u001b[0m\u001b[0mtqdm\u001b[0m\u001b[1;33m(\u001b[0m\u001b[0mthp\u001b[0m\u001b[1;33m.\u001b[0m\u001b[0mmap\u001b[0m\u001b[1;33m(\u001b[0m\u001b[0mconsulta_api\u001b[0m\u001b[1;33m,\u001b[0m \u001b[0mdf_houses\u001b[0m\u001b[1;33m[\u001b[0m\u001b[1;34m'lat'\u001b[0m\u001b[1;33m]\u001b[0m\u001b[1;33m,\u001b[0m \u001b[0mdf_houses\u001b[0m\u001b[1;33m[\u001b[0m\u001b[1;34m'long'\u001b[0m\u001b[1;33m]\u001b[0m\u001b[1;33m,\u001b[0m \u001b[1;33m[\u001b[0m\u001b[1;34m'road'\u001b[0m\u001b[1;33m]\u001b[0m\u001b[1;33m*\u001b[0m\u001b[0mlen\u001b[0m\u001b[1;33m(\u001b[0m\u001b[0mdf_houses\u001b[0m\u001b[1;33m)\u001b[0m\u001b[1;33m,\u001b[0m \u001b[0mchunksize\u001b[0m\u001b[1;33m=\u001b[0m\u001b[1;36m10\u001b[0m\u001b[1;33m)\u001b[0m\u001b[1;33m,\u001b[0m \u001b[0mtotal\u001b[0m\u001b[1;33m=\u001b[0m\u001b[0mdf_houses\u001b[0m\u001b[1;33m.\u001b[0m\u001b[0mshape\u001b[0m\u001b[1;33m[\u001b[0m\u001b[1;36m0\u001b[0m\u001b[1;33m]\u001b[0m\u001b[1;33m)\u001b[0m\u001b[1;33m)\u001b[0m\u001b[1;33m\u001b[0m\u001b[1;33m\u001b[0m\u001b[0m\n\u001b[0m\u001b[0;32m     33\u001b[0m \u001b[1;31m#     df_houses['house_number'] = list(tqdm.tqdm(thp.map(consulta_api, df_houses['lat'], df_houses['long'], 'house_number', chunksize=10), total=df_houses.shape[0]))\u001b[0m\u001b[1;33m\u001b[0m\u001b[1;33m\u001b[0m\u001b[1;33m\u001b[0m\u001b[0m\n\u001b[0;32m     34\u001b[0m \u001b[1;31m#     df_houses['neighbourhood'] = list(tqdm.tqdm(thp.map(consulta_api, df_houses['lat'], df_houses['long'], 'neighbourhood', chunksize=10), total=df_houses.shape[0]))\u001b[0m\u001b[1;33m\u001b[0m\u001b[1;33m\u001b[0m\u001b[1;33m\u001b[0m\u001b[0m\n",
      "\u001b[1;32m~\\AppData\\Roaming\\Python\\Python39\\site-packages\\tqdm\\std.py\u001b[0m in \u001b[0;36m__iter__\u001b[1;34m(self)\u001b[0m\n\u001b[0;32m   1176\u001b[0m \u001b[1;33m\u001b[0m\u001b[0m\n\u001b[0;32m   1177\u001b[0m         \u001b[1;32mtry\u001b[0m\u001b[1;33m:\u001b[0m\u001b[1;33m\u001b[0m\u001b[1;33m\u001b[0m\u001b[0m\n\u001b[1;32m-> 1178\u001b[1;33m             \u001b[1;32mfor\u001b[0m \u001b[0mobj\u001b[0m \u001b[1;32min\u001b[0m \u001b[0miterable\u001b[0m\u001b[1;33m:\u001b[0m\u001b[1;33m\u001b[0m\u001b[1;33m\u001b[0m\u001b[0m\n\u001b[0m\u001b[0;32m   1179\u001b[0m                 \u001b[1;32myield\u001b[0m \u001b[0mobj\u001b[0m\u001b[1;33m\u001b[0m\u001b[1;33m\u001b[0m\u001b[0m\n\u001b[0;32m   1180\u001b[0m                 \u001b[1;31m# Update and possibly print the progressbar.\u001b[0m\u001b[1;33m\u001b[0m\u001b[1;33m\u001b[0m\u001b[1;33m\u001b[0m\u001b[0m\n",
      "\u001b[1;32m~\\anaconda3\\envs\\zero-ao-ds\\lib\\concurrent\\futures\\_base.py\u001b[0m in \u001b[0;36mresult_iterator\u001b[1;34m()\u001b[0m\n\u001b[0;32m    598\u001b[0m                     \u001b[1;31m# Careful not to keep a reference to the popped future\u001b[0m\u001b[1;33m\u001b[0m\u001b[1;33m\u001b[0m\u001b[1;33m\u001b[0m\u001b[0m\n\u001b[0;32m    599\u001b[0m                     \u001b[1;32mif\u001b[0m \u001b[0mtimeout\u001b[0m \u001b[1;32mis\u001b[0m \u001b[1;32mNone\u001b[0m\u001b[1;33m:\u001b[0m\u001b[1;33m\u001b[0m\u001b[1;33m\u001b[0m\u001b[0m\n\u001b[1;32m--> 600\u001b[1;33m                         \u001b[1;32myield\u001b[0m \u001b[0mfs\u001b[0m\u001b[1;33m.\u001b[0m\u001b[0mpop\u001b[0m\u001b[1;33m(\u001b[0m\u001b[1;33m)\u001b[0m\u001b[1;33m.\u001b[0m\u001b[0mresult\u001b[0m\u001b[1;33m(\u001b[0m\u001b[1;33m)\u001b[0m\u001b[1;33m\u001b[0m\u001b[1;33m\u001b[0m\u001b[0m\n\u001b[0m\u001b[0;32m    601\u001b[0m                     \u001b[1;32melse\u001b[0m\u001b[1;33m:\u001b[0m\u001b[1;33m\u001b[0m\u001b[1;33m\u001b[0m\u001b[0m\n\u001b[0;32m    602\u001b[0m                         \u001b[1;32myield\u001b[0m \u001b[0mfs\u001b[0m\u001b[1;33m.\u001b[0m\u001b[0mpop\u001b[0m\u001b[1;33m(\u001b[0m\u001b[1;33m)\u001b[0m\u001b[1;33m.\u001b[0m\u001b[0mresult\u001b[0m\u001b[1;33m(\u001b[0m\u001b[0mend_time\u001b[0m \u001b[1;33m-\u001b[0m \u001b[0mtime\u001b[0m\u001b[1;33m.\u001b[0m\u001b[0mmonotonic\u001b[0m\u001b[1;33m(\u001b[0m\u001b[1;33m)\u001b[0m\u001b[1;33m)\u001b[0m\u001b[1;33m\u001b[0m\u001b[1;33m\u001b[0m\u001b[0m\n",
      "\u001b[1;32m~\\anaconda3\\envs\\zero-ao-ds\\lib\\concurrent\\futures\\_base.py\u001b[0m in \u001b[0;36mresult\u001b[1;34m(self, timeout)\u001b[0m\n\u001b[0;32m    438\u001b[0m                 \u001b[1;32mraise\u001b[0m \u001b[0mCancelledError\u001b[0m\u001b[1;33m(\u001b[0m\u001b[1;33m)\u001b[0m\u001b[1;33m\u001b[0m\u001b[1;33m\u001b[0m\u001b[0m\n\u001b[0;32m    439\u001b[0m             \u001b[1;32melif\u001b[0m \u001b[0mself\u001b[0m\u001b[1;33m.\u001b[0m\u001b[0m_state\u001b[0m \u001b[1;33m==\u001b[0m \u001b[0mFINISHED\u001b[0m\u001b[1;33m:\u001b[0m\u001b[1;33m\u001b[0m\u001b[1;33m\u001b[0m\u001b[0m\n\u001b[1;32m--> 440\u001b[1;33m                 \u001b[1;32mreturn\u001b[0m \u001b[0mself\u001b[0m\u001b[1;33m.\u001b[0m\u001b[0m__get_result\u001b[0m\u001b[1;33m(\u001b[0m\u001b[1;33m)\u001b[0m\u001b[1;33m\u001b[0m\u001b[1;33m\u001b[0m\u001b[0m\n\u001b[0m\u001b[0;32m    441\u001b[0m             \u001b[1;32melse\u001b[0m\u001b[1;33m:\u001b[0m\u001b[1;33m\u001b[0m\u001b[1;33m\u001b[0m\u001b[0m\n\u001b[0;32m    442\u001b[0m                 \u001b[1;32mraise\u001b[0m \u001b[0mTimeoutError\u001b[0m\u001b[1;33m(\u001b[0m\u001b[1;33m)\u001b[0m\u001b[1;33m\u001b[0m\u001b[1;33m\u001b[0m\u001b[0m\n",
      "\u001b[1;32m~\\anaconda3\\envs\\zero-ao-ds\\lib\\concurrent\\futures\\_base.py\u001b[0m in \u001b[0;36m__get_result\u001b[1;34m(self)\u001b[0m\n\u001b[0;32m    387\u001b[0m     \u001b[1;32mdef\u001b[0m \u001b[0m__get_result\u001b[0m\u001b[1;33m(\u001b[0m\u001b[0mself\u001b[0m\u001b[1;33m)\u001b[0m\u001b[1;33m:\u001b[0m\u001b[1;33m\u001b[0m\u001b[1;33m\u001b[0m\u001b[0m\n\u001b[0;32m    388\u001b[0m         \u001b[1;32mif\u001b[0m \u001b[0mself\u001b[0m\u001b[1;33m.\u001b[0m\u001b[0m_exception\u001b[0m\u001b[1;33m:\u001b[0m\u001b[1;33m\u001b[0m\u001b[1;33m\u001b[0m\u001b[0m\n\u001b[1;32m--> 389\u001b[1;33m             \u001b[1;32mraise\u001b[0m \u001b[0mself\u001b[0m\u001b[1;33m.\u001b[0m\u001b[0m_exception\u001b[0m\u001b[1;33m\u001b[0m\u001b[1;33m\u001b[0m\u001b[0m\n\u001b[0m\u001b[0;32m    390\u001b[0m         \u001b[1;32melse\u001b[0m\u001b[1;33m:\u001b[0m\u001b[1;33m\u001b[0m\u001b[1;33m\u001b[0m\u001b[0m\n\u001b[0;32m    391\u001b[0m             \u001b[1;32mreturn\u001b[0m \u001b[0mself\u001b[0m\u001b[1;33m.\u001b[0m\u001b[0m_result\u001b[0m\u001b[1;33m\u001b[0m\u001b[1;33m\u001b[0m\u001b[0m\n",
      "\u001b[1;32m~\\anaconda3\\envs\\zero-ao-ds\\lib\\concurrent\\futures\\thread.py\u001b[0m in \u001b[0;36mrun\u001b[1;34m(self)\u001b[0m\n\u001b[0;32m     50\u001b[0m \u001b[1;33m\u001b[0m\u001b[0m\n\u001b[0;32m     51\u001b[0m         \u001b[1;32mtry\u001b[0m\u001b[1;33m:\u001b[0m\u001b[1;33m\u001b[0m\u001b[1;33m\u001b[0m\u001b[0m\n\u001b[1;32m---> 52\u001b[1;33m             \u001b[0mresult\u001b[0m \u001b[1;33m=\u001b[0m \u001b[0mself\u001b[0m\u001b[1;33m.\u001b[0m\u001b[0mfn\u001b[0m\u001b[1;33m(\u001b[0m\u001b[1;33m*\u001b[0m\u001b[0mself\u001b[0m\u001b[1;33m.\u001b[0m\u001b[0margs\u001b[0m\u001b[1;33m,\u001b[0m \u001b[1;33m**\u001b[0m\u001b[0mself\u001b[0m\u001b[1;33m.\u001b[0m\u001b[0mkwargs\u001b[0m\u001b[1;33m)\u001b[0m\u001b[1;33m\u001b[0m\u001b[1;33m\u001b[0m\u001b[0m\n\u001b[0m\u001b[0;32m     53\u001b[0m         \u001b[1;32mexcept\u001b[0m \u001b[0mBaseException\u001b[0m \u001b[1;32mas\u001b[0m \u001b[0mexc\u001b[0m\u001b[1;33m:\u001b[0m\u001b[1;33m\u001b[0m\u001b[1;33m\u001b[0m\u001b[0m\n\u001b[0;32m     54\u001b[0m             \u001b[0mself\u001b[0m\u001b[1;33m.\u001b[0m\u001b[0mfuture\u001b[0m\u001b[1;33m.\u001b[0m\u001b[0mset_exception\u001b[0m\u001b[1;33m(\u001b[0m\u001b[0mexc\u001b[0m\u001b[1;33m)\u001b[0m\u001b[1;33m\u001b[0m\u001b[1;33m\u001b[0m\u001b[0m\n",
      "\u001b[1;32m<ipython-input-10-1aa9cefcbf76>\u001b[0m in \u001b[0;36mconsulta_api\u001b[1;34m(lat, long, col)\u001b[0m\n\u001b[0;32m     10\u001b[0m \u001b[1;33m\u001b[0m\u001b[0m\n\u001b[0;32m     11\u001b[0m     \u001b[1;32mtry\u001b[0m\u001b[1;33m:\u001b[0m\u001b[1;33m\u001b[0m\u001b[1;33m\u001b[0m\u001b[0m\n\u001b[1;32m---> 12\u001b[1;33m         \u001b[0mresponse\u001b[0m \u001b[1;33m=\u001b[0m \u001b[0mgeolocator\u001b[0m\u001b[1;33m.\u001b[0m\u001b[0mreverse\u001b[0m\u001b[1;33m(\u001b[0m\u001b[0mquery\u001b[0m\u001b[1;33m)\u001b[0m\u001b[1;33m\u001b[0m\u001b[1;33m\u001b[0m\u001b[0m\n\u001b[0m\u001b[0;32m     13\u001b[0m     \u001b[1;32mexcept\u001b[0m \u001b[0mGeocoderTimedOut\u001b[0m\u001b[1;33m:\u001b[0m\u001b[1;33m\u001b[0m\u001b[1;33m\u001b[0m\u001b[0m\n\u001b[0;32m     14\u001b[0m         \u001b[1;32mpass\u001b[0m\u001b[1;33m\u001b[0m\u001b[1;33m\u001b[0m\u001b[0m\n",
      "\u001b[1;32m~\\anaconda3\\envs\\zero-ao-ds\\lib\\site-packages\\geopy\\geocoders\\nominatim.py\u001b[0m in \u001b[0;36mreverse\u001b[1;34m(self, query, exactly_one, timeout, language, addressdetails, zoom)\u001b[0m\n\u001b[0;32m    360\u001b[0m         \u001b[0mlogger\u001b[0m\u001b[1;33m.\u001b[0m\u001b[0mdebug\u001b[0m\u001b[1;33m(\u001b[0m\u001b[1;34m\"%s.reverse: %s\"\u001b[0m\u001b[1;33m,\u001b[0m \u001b[0mself\u001b[0m\u001b[1;33m.\u001b[0m\u001b[0m__class__\u001b[0m\u001b[1;33m.\u001b[0m\u001b[0m__name__\u001b[0m\u001b[1;33m,\u001b[0m \u001b[0murl\u001b[0m\u001b[1;33m)\u001b[0m\u001b[1;33m\u001b[0m\u001b[1;33m\u001b[0m\u001b[0m\n\u001b[0;32m    361\u001b[0m         \u001b[0mcallback\u001b[0m \u001b[1;33m=\u001b[0m \u001b[0mpartial\u001b[0m\u001b[1;33m(\u001b[0m\u001b[0mself\u001b[0m\u001b[1;33m.\u001b[0m\u001b[0m_parse_json\u001b[0m\u001b[1;33m,\u001b[0m \u001b[0mexactly_one\u001b[0m\u001b[1;33m=\u001b[0m\u001b[0mexactly_one\u001b[0m\u001b[1;33m)\u001b[0m\u001b[1;33m\u001b[0m\u001b[1;33m\u001b[0m\u001b[0m\n\u001b[1;32m--> 362\u001b[1;33m         \u001b[1;32mreturn\u001b[0m \u001b[0mself\u001b[0m\u001b[1;33m.\u001b[0m\u001b[0m_call_geocoder\u001b[0m\u001b[1;33m(\u001b[0m\u001b[0murl\u001b[0m\u001b[1;33m,\u001b[0m \u001b[0mcallback\u001b[0m\u001b[1;33m,\u001b[0m \u001b[0mtimeout\u001b[0m\u001b[1;33m=\u001b[0m\u001b[0mtimeout\u001b[0m\u001b[1;33m)\u001b[0m\u001b[1;33m\u001b[0m\u001b[1;33m\u001b[0m\u001b[0m\n\u001b[0m\u001b[0;32m    363\u001b[0m \u001b[1;33m\u001b[0m\u001b[0m\n\u001b[0;32m    364\u001b[0m     \u001b[1;32mdef\u001b[0m \u001b[0m_parse_code\u001b[0m\u001b[1;33m(\u001b[0m\u001b[0mself\u001b[0m\u001b[1;33m,\u001b[0m \u001b[0mplace\u001b[0m\u001b[1;33m)\u001b[0m\u001b[1;33m:\u001b[0m\u001b[1;33m\u001b[0m\u001b[1;33m\u001b[0m\u001b[0m\n",
      "\u001b[1;32m~\\anaconda3\\envs\\zero-ao-ds\\lib\\site-packages\\geopy\\geocoders\\base.py\u001b[0m in \u001b[0;36m_call_geocoder\u001b[1;34m(self, url, callback, timeout, is_json, headers)\u001b[0m\n\u001b[0;32m    358\u001b[0m         \u001b[1;32mtry\u001b[0m\u001b[1;33m:\u001b[0m\u001b[1;33m\u001b[0m\u001b[1;33m\u001b[0m\u001b[0m\n\u001b[0;32m    359\u001b[0m             \u001b[1;32mif\u001b[0m \u001b[0mis_json\u001b[0m\u001b[1;33m:\u001b[0m\u001b[1;33m\u001b[0m\u001b[1;33m\u001b[0m\u001b[0m\n\u001b[1;32m--> 360\u001b[1;33m                 \u001b[0mresult\u001b[0m \u001b[1;33m=\u001b[0m \u001b[0mself\u001b[0m\u001b[1;33m.\u001b[0m\u001b[0madapter\u001b[0m\u001b[1;33m.\u001b[0m\u001b[0mget_json\u001b[0m\u001b[1;33m(\u001b[0m\u001b[0murl\u001b[0m\u001b[1;33m,\u001b[0m \u001b[0mtimeout\u001b[0m\u001b[1;33m=\u001b[0m\u001b[0mtimeout\u001b[0m\u001b[1;33m,\u001b[0m \u001b[0mheaders\u001b[0m\u001b[1;33m=\u001b[0m\u001b[0mreq_headers\u001b[0m\u001b[1;33m)\u001b[0m\u001b[1;33m\u001b[0m\u001b[1;33m\u001b[0m\u001b[0m\n\u001b[0m\u001b[0;32m    361\u001b[0m             \u001b[1;32melse\u001b[0m\u001b[1;33m:\u001b[0m\u001b[1;33m\u001b[0m\u001b[1;33m\u001b[0m\u001b[0m\n\u001b[0;32m    362\u001b[0m                 \u001b[0mresult\u001b[0m \u001b[1;33m=\u001b[0m \u001b[0mself\u001b[0m\u001b[1;33m.\u001b[0m\u001b[0madapter\u001b[0m\u001b[1;33m.\u001b[0m\u001b[0mget_text\u001b[0m\u001b[1;33m(\u001b[0m\u001b[0murl\u001b[0m\u001b[1;33m,\u001b[0m \u001b[0mtimeout\u001b[0m\u001b[1;33m=\u001b[0m\u001b[0mtimeout\u001b[0m\u001b[1;33m,\u001b[0m \u001b[0mheaders\u001b[0m\u001b[1;33m=\u001b[0m\u001b[0mreq_headers\u001b[0m\u001b[1;33m)\u001b[0m\u001b[1;33m\u001b[0m\u001b[1;33m\u001b[0m\u001b[0m\n",
      "\u001b[1;32m~\\anaconda3\\envs\\zero-ao-ds\\lib\\site-packages\\geopy\\adapters.py\u001b[0m in \u001b[0;36mget_json\u001b[1;34m(self, url, timeout, headers)\u001b[0m\n\u001b[0;32m    375\u001b[0m \u001b[1;33m\u001b[0m\u001b[0m\n\u001b[0;32m    376\u001b[0m     \u001b[1;32mdef\u001b[0m \u001b[0mget_json\u001b[0m\u001b[1;33m(\u001b[0m\u001b[0mself\u001b[0m\u001b[1;33m,\u001b[0m \u001b[0murl\u001b[0m\u001b[1;33m,\u001b[0m \u001b[1;33m*\u001b[0m\u001b[1;33m,\u001b[0m \u001b[0mtimeout\u001b[0m\u001b[1;33m,\u001b[0m \u001b[0mheaders\u001b[0m\u001b[1;33m)\u001b[0m\u001b[1;33m:\u001b[0m\u001b[1;33m\u001b[0m\u001b[1;33m\u001b[0m\u001b[0m\n\u001b[1;32m--> 377\u001b[1;33m         \u001b[0mresp\u001b[0m \u001b[1;33m=\u001b[0m \u001b[0mself\u001b[0m\u001b[1;33m.\u001b[0m\u001b[0m_request\u001b[0m\u001b[1;33m(\u001b[0m\u001b[0murl\u001b[0m\u001b[1;33m,\u001b[0m \u001b[0mtimeout\u001b[0m\u001b[1;33m=\u001b[0m\u001b[0mtimeout\u001b[0m\u001b[1;33m,\u001b[0m \u001b[0mheaders\u001b[0m\u001b[1;33m=\u001b[0m\u001b[0mheaders\u001b[0m\u001b[1;33m)\u001b[0m\u001b[1;33m\u001b[0m\u001b[1;33m\u001b[0m\u001b[0m\n\u001b[0m\u001b[0;32m    378\u001b[0m         \u001b[1;32mtry\u001b[0m\u001b[1;33m:\u001b[0m\u001b[1;33m\u001b[0m\u001b[1;33m\u001b[0m\u001b[0m\n\u001b[0;32m    379\u001b[0m             \u001b[1;32mreturn\u001b[0m \u001b[0mresp\u001b[0m\u001b[1;33m.\u001b[0m\u001b[0mjson\u001b[0m\u001b[1;33m(\u001b[0m\u001b[1;33m)\u001b[0m\u001b[1;33m\u001b[0m\u001b[1;33m\u001b[0m\u001b[0m\n",
      "\u001b[1;32m~\\anaconda3\\envs\\zero-ao-ds\\lib\\site-packages\\geopy\\adapters.py\u001b[0m in \u001b[0;36m_request\u001b[1;34m(self, url, timeout, headers)\u001b[0m\n\u001b[0;32m    397\u001b[0m                     \u001b[1;32mraise\u001b[0m \u001b[0mGeocoderServiceError\u001b[0m\u001b[1;33m(\u001b[0m\u001b[0mmessage\u001b[0m\u001b[1;33m)\u001b[0m\u001b[1;33m\u001b[0m\u001b[1;33m\u001b[0m\u001b[0m\n\u001b[0;32m    398\u001b[0m                 \u001b[1;32melse\u001b[0m\u001b[1;33m:\u001b[0m\u001b[1;33m\u001b[0m\u001b[1;33m\u001b[0m\u001b[0m\n\u001b[1;32m--> 399\u001b[1;33m                     \u001b[1;32mraise\u001b[0m \u001b[0mGeocoderUnavailable\u001b[0m\u001b[1;33m(\u001b[0m\u001b[0mmessage\u001b[0m\u001b[1;33m)\u001b[0m\u001b[1;33m\u001b[0m\u001b[1;33m\u001b[0m\u001b[0m\n\u001b[0m\u001b[0;32m    400\u001b[0m             \u001b[1;32melif\u001b[0m \u001b[0misinstance\u001b[0m\u001b[1;33m(\u001b[0m\u001b[0merror\u001b[0m\u001b[1;33m,\u001b[0m \u001b[0mrequests\u001b[0m\u001b[1;33m.\u001b[0m\u001b[0mTimeout\u001b[0m\u001b[1;33m)\u001b[0m\u001b[1;33m:\u001b[0m\u001b[1;33m\u001b[0m\u001b[1;33m\u001b[0m\u001b[0m\n\u001b[0;32m    401\u001b[0m                 \u001b[1;32mraise\u001b[0m \u001b[0mGeocoderTimedOut\u001b[0m\u001b[1;33m(\u001b[0m\u001b[1;34m\"Service timed out\"\u001b[0m\u001b[1;33m)\u001b[0m\u001b[1;33m\u001b[0m\u001b[1;33m\u001b[0m\u001b[0m\n",
      "\u001b[1;31mGeocoderUnavailable\u001b[0m: HTTPSConnectionPool(host='nominatim.openstreetmap.org', port=443): Max retries exceeded with url: /reverse?lat=47.3262&lon=-122.214&format=json&addressdetails=1 (Caused by ConnectTimeoutError(<urllib3.connection.HTTPSConnection object at 0x00000214803FE2E0>, 'Connection to nominatim.openstreetmap.org timed out. (connect timeout=1)'))"
     ]
    }
   ],
   "source": [
    "# -----------------------------------------\n",
    "# Executando de forma concorrente assincronamente\n",
    "from concurrent.futures import ThreadPoolExecutor\n",
    "# -----------------------------------------\n",
    "\n",
    "def consulta_api(lat, long, col):\n",
    "    \n",
    "    # Montando a string de busca com os dados de 'lat' e 'long'\n",
    "    query = str(lat) + ',' + str(long)\n",
    "    \n",
    "    try:\n",
    "        response = geolocator.reverse(query)\n",
    "    except GeocoderTimedOut:\n",
    "        pass\n",
    "        \n",
    "    if col in response.raw['address']:\n",
    "        return response.raw['address'][col]\n",
    "    else:\n",
    "        return np.nan\n",
    "    \n",
    "\n",
    "\n",
    "\n",
    "import tqdm\n",
    "import multiprocessing\n",
    "num_processes = multiprocessing.cpu_count()\n",
    "\n",
    "with ThreadPoolExecutor(num_processes) as thp:\n",
    "    \n",
    "    # Popula o dataframe com os dados da API\n",
    "\n",
    "    df_houses['road'] = list(tqdm.tqdm(thp.map(consulta_api, df_houses['lat'], df_houses['long'], ['road']*len(df_houses), chunksize=10), total=df_houses.shape[0]))\n",
    "#     df_houses['house_number'] = list(tqdm.tqdm(thp.map(consulta_api, df_houses['lat'], df_houses['long'], 'house_number', chunksize=10), total=df_houses.shape[0]))\n",
    "#     df_houses['neighbourhood'] = list(tqdm.tqdm(thp.map(consulta_api, df_houses['lat'], df_houses['long'], 'neighbourhood', chunksize=10), total=df_houses.shape[0]))\n",
    "#     df_houses['city'] = list(tqdm.tqdm(thp.map(consulta_api, df_houses['lat'], df_houses['long'], 'city', chunksize=10), total=df_houses.shape[0]))\n",
    "#     df_houses['state'] = list(tqdm.tqdm(thp.map(consulta_api, df_houses['lat'], df_houses['long'], 'state', chunksize=10), total=df_houses.shape[0]))\n",
    "    "
   ]
  },
  {
   "cell_type": "code",
   "execution_count": 37,
   "metadata": {
    "ExecuteTime": {
     "end_time": "2021-03-15T11:27:56.031143Z",
     "start_time": "2021-03-15T11:27:55.287488Z"
    }
   },
   "outputs": [
    {
     "data": {
      "text/plain": [
       "'56th Avenue South'"
      ]
     },
     "execution_count": 37,
     "metadata": {},
     "output_type": "execute_result"
    }
   ],
   "source": [
    "consulta_api(df_houses.loc[3,'lat'], df_houses.loc[3,'long'], 'road')"
   ]
  },
  {
   "cell_type": "code",
   "execution_count": null,
   "metadata": {
    "ExecuteTime": {
     "end_time": "2021-02-08T16:59:27.650801Z",
     "start_time": "2021-02-08T16:59:27.243803Z"
    }
   },
   "outputs": [],
   "source": [
    "# salvando num arquivo pra não precisar fazer de novo\n",
    "df_houses.to_csv('dados/processados/kc_house_data_comp.csv', index=False)"
   ]
  },
  {
   "cell_type": "markdown",
   "metadata": {},
   "source": [
    "#### 3. Adicione o nível do imóvel no mapa como uma cor"
   ]
  },
  {
   "cell_type": "code",
   "execution_count": 1,
   "metadata": {
    "ExecuteTime": {
     "end_time": "2021-02-10T19:55:45.538884Z",
     "start_time": "2021-02-10T19:55:40.525192Z"
    }
   },
   "outputs": [],
   "source": [
    "import pandas as pd\n",
    "import plotly.express as px\n",
    "#  Importando os componentes necessarios para formatação da tabela de valores\n",
    "import plotly.graph_objects as go\n",
    "import plotly.figure_factory as ff\n",
    "from plotly.subplots import make_subplots\n",
    "\n",
    "%config Completer.use_jedi = False "
   ]
  },
  {
   "cell_type": "code",
   "execution_count": 2,
   "metadata": {
    "ExecuteTime": {
     "end_time": "2021-02-10T19:55:46.161525Z",
     "start_time": "2021-02-10T19:55:46.050760Z"
    }
   },
   "outputs": [],
   "source": [
    "df_houses = pd.read_csv('dados/processados/kc_house_data_comp.csv', parse_dates=['date'], \n",
    "                       infer_datetime_format=True)"
   ]
  },
  {
   "cell_type": "code",
   "execution_count": null,
   "metadata": {
    "ExecuteTime": {
     "end_time": "2021-02-05T14:55:17.111144Z",
     "start_time": "2021-02-05T14:55:09.237209Z"
    }
   },
   "outputs": [],
   "source": [
    "lst_columns = ['id', 'lat', 'long', 'price', 'nivel']\n",
    "mapa = px.scatter_mapbox( df_houses[lst_columns], lat='lat', lon='long',  \n",
    "                     hover_name='id',\n",
    "                     hover_data=['price'],\n",
    "                     color_continuous_scale= \"IceFire\",\n",
    "                     color='nivel',\n",
    "                     size='price',\n",
    "                     height=300,\n",
    "                     zoom= 9)\n",
    "mapa.update_layout(mapbox_style='open-street-map')\n",
    "mapa.update_layout(height=600, margin={'r':0, 't':0, 'l':0, 'b':0})\n",
    "mapa.show()"
   ]
  },
  {
   "cell_type": "markdown",
   "metadata": {},
   "source": [
    "#### 4. Adicione o preço do imóvel como o tamanho do ponto no mapa"
   ]
  },
  {
   "cell_type": "code",
   "execution_count": null,
   "metadata": {
    "ExecuteTime": {
     "end_time": "2021-02-02T00:34:26.408391Z",
     "start_time": "2021-02-02T00:34:25.599387Z"
    }
   },
   "outputs": [],
   "source": [
    "lst_columns = ['id', 'lat', 'long', 'price']\n",
    "mapa = px.scatter_mapbox( df_houses[lst_columns], lat='lat', lon='long',  \n",
    "                     hover_name='id',\n",
    "                     hover_data=['price'],\n",
    "                     color_continuous_scale= px.colors.cyclical.IceFire,\n",
    "                     size='price',\n",
    "                     size_max=15,\n",
    "                     height=300,\n",
    "                     zoom= 9)\n",
    "mapa.update_layout(mapbox_style='open-street-map')\n",
    "mapa.update_layout(height=600, margin={'r':0, 't':0, 'l':0, 'b':0})\n",
    "mapa.show()"
   ]
  },
  {
   "cell_type": "markdown",
   "metadata": {},
   "source": [
    "#### 5. Adicione opções de filtros para fazer as próprias análises\n",
    "  - Eu quero escolher visualizar imóveis com vista para água ou não\n",
    "  - Eu quero escolher visualizar imóveis até um certo valor de preço\n",
    "  "
   ]
  },
  {
   "cell_type": "code",
   "execution_count": 6,
   "metadata": {
    "ExecuteTime": {
     "end_time": "2021-02-09T15:03:56.908532Z",
     "start_time": "2021-02-09T15:03:56.905569Z"
    },
    "scrolled": true
   },
   "outputs": [],
   "source": [
    "import ipywidgets as widgets\n",
    "from ipywidgets import fixed"
   ]
  },
  {
   "cell_type": "code",
   "execution_count": null,
   "metadata": {
    "ExecuteTime": {
     "end_time": "2021-02-08T17:00:41.636946Z",
     "start_time": "2021-02-08T17:00:41.611988Z"
    }
   },
   "outputs": [],
   "source": [
    "df_houses['is_waterfront'] = df_houses['waterfront'].apply(lambda x: 'yes' if x == 1 else 'no')\n",
    "\n",
    "style = {'description_width': 'initial'}\n",
    "\n",
    "# Interative buttons\n",
    "price_limit = widgets.IntSlider(\n",
    "    value = 540000,\n",
    "    min = 75000,\n",
    "    max = 77000000,\n",
    "    step = 10,\n",
    "    description = 'Maximum Price',\n",
    "    disable = False,\n",
    "    style = style,\n",
    "    readout=True\n",
    ")\n",
    "\n",
    "waterfront_bar = widgets.Dropdown(\n",
    "    options = df_houses['is_waterfront'].unique().tolist(),\n",
    "    value = 'yes',\n",
    "    description = 'Water View',\n",
    "    disable=False\n",
    ")\n",
    "\n",
    "def update_map(df, waterfront, limit):\n",
    "\n",
    "#     houses = df.loc[(df['price'] <= limit) & (df['is_waterfront'] == waterfront)][['id', 'lat', 'long', 'price', 'nivel']]\n",
    "    houses = df.query('price <= @limit & is_waterfront == @waterfront')[['id', 'lat', 'long', 'price', 'nivel']]\n",
    "    mapa = px.scatter_mapbox( houses, lat='lat', lon='long',  \n",
    "                     hover_name='id',\n",
    "                     hover_data=['price'],\n",
    "                     color_continuous_scale= \"IceFire\",\n",
    "                     color='nivel',\n",
    "                     size='price',\n",
    "                     height=250,\n",
    "                     zoom= 9)\n",
    "    mapa.update_layout(mapbox_style='open-street-map')\n",
    "    mapa.update_layout(height=600, margin={'r':0, 't':0, 'l':0, 'b':0})\n",
    "    mapa.show()\n"
   ]
  },
  {
   "cell_type": "code",
   "execution_count": null,
   "metadata": {
    "ExecuteTime": {
     "end_time": "2021-02-08T17:00:49.632562Z",
     "start_time": "2021-02-08T17:00:43.035116Z"
    }
   },
   "outputs": [],
   "source": [
    "widgets.interactive( update_map, df=fixed(df_houses), waterfront=waterfront_bar, limit=price_limit)"
   ]
  },
  {
   "cell_type": "markdown",
   "metadata": {},
   "source": [
    "#### 6. Adicionar opções de filtros no últimos dashboard enviado:\n",
    "   - Visualizar somente valores a partir de uma data disponível para compra"
   ]
  },
  {
   "cell_type": "code",
   "execution_count": null,
   "metadata": {
    "ExecuteTime": {
     "end_time": "2021-02-05T15:46:38.092858Z",
     "start_time": "2021-02-05T15:46:36.565953Z"
    }
   },
   "outputs": [],
   "source": [
    "from matplotlib import gridspec\n",
    "from matplotlib import pyplot as plt"
   ]
  },
  {
   "cell_type": "code",
   "execution_count": null,
   "metadata": {
    "ExecuteTime": {
     "end_time": "2021-02-05T15:46:38.988457Z",
     "start_time": "2021-02-05T15:46:38.413997Z"
    }
   },
   "outputs": [],
   "source": [
    "# alterando o formato da data\n",
    "\n",
    "df_houses['year'] = pd.to_datetime(df_houses['date']).dt.isocalendar().year\n",
    "df_houses['year_week'] = pd.to_datetime(df_houses['date']).dt.strftime('%Y-%U') \n",
    "df_houses['date'] = pd.to_datetime(df_houses['date']).dt.strftime('%Y-%m-%d')\n",
    "\n",
    "\n",
    "# Controle Widget para data\n",
    "date_limit = widgets.SelectionSlider(\n",
    "    options= df_houses['date'].sort_values().unique().tolist(),\n",
    "    value= '2014-12-01',\n",
    "    description= 'Disponivel',\n",
    "    continuous_update= False,\n",
    "    orientation= 'horizontal',\n",
    "    readout= True\n",
    ")\n",
    "\n",
    "def update_map2(data, limit):\n",
    "    df = data[data['date'] >= limit].copy()\n",
    "    \n",
    "    fig = plt.figure( figsize=(21,12) )\n",
    "    specs = gridspec.GridSpec(ncols=2, nrows=2, figure=fig)\n",
    "    \n",
    "    ax1 = fig.add_subplot( specs[0, :] ) # primeira linha, todas colunas\n",
    "    ax2 = fig.add_subplot( specs[1, 0] ) # segunda linha, primeira coluna\n",
    "    ax3 = fig.add_subplot( specs[1, 1] ) # segunda linha, segunda coluna\n",
    "    \n",
    "    by_year = df[['id', 'year']].groupby('year').sum().reset_index()\n",
    "    ax1.bar( by_year['year'], by_year['id'] )\n",
    "    \n",
    "    by_day = df[['id', 'date']].groupby('date').mean().reset_index()\n",
    "    ax2.plot( by_day['date'], by_day['id'] )\n",
    "    ax2.set_title('Avg Price by Day')\n",
    "    \n",
    "    by_week = df[['id', 'year_week']].groupby('year_week').mean().reset_index()\n",
    "    ax3.bar( by_week['year_week'], by_week['id'] )\n",
    "    ax3.set_title('Avg Price by Week Of Year')\n",
    "    plt.xticks(rotation=60)\n",
    "    \n",
    "    "
   ]
  },
  {
   "cell_type": "code",
   "execution_count": null,
   "metadata": {
    "ExecuteTime": {
     "end_time": "2021-02-05T15:46:43.949154Z",
     "start_time": "2021-02-05T15:46:41.374061Z"
    }
   },
   "outputs": [],
   "source": [
    "widgets.interactive( update_map2, data=fixed(df_houses), limit=date_limit )"
   ]
  },
  {
   "cell_type": "markdown",
   "metadata": {},
   "source": [
    "### Exercícios:\n",
    "\n",
    "1. Qual a quantidade de imóveis por nível?\n",
    " - Nivel 0: Preço entre 0.00 e R$ 321.950\n",
    " - Nivel 1: Preço entre 321.950 e 450.000\n",
    " - Nivel 2: Preço entre 450.000 e 645.000\n",
    " - Nivel 3: Preço Acima de 645.000\n",
    "\n",
    "2. Qual a média do tamanho da sala de estar dos imíveis por \"size\"?\n",
    " - Size 0: Tamanho entre 0 e 1427 sqft\n",
    " - Size 1: Tamanho entre 1427 e 1910 sqft\n",
    " - Size 2: Tamanho entre 1910 e 2550 sqft\n",
    " - Size 3: Tamanho acima de 2550 sqtf\n",
    "\n",
    "3. Adicione as seguintes informações ao conjunto de dados original?\n",
    " - Place ID:Identificação da localização\n",
    " - OSM type: Open Street Map Type\n",
    " - Country: Nome do País\n",
    " - Country CODE: Código do País\n",
    "\n",
    "4. Adicione os seguintes filtros no mapa:\n",
    " - Tamanho mínimo da área da sala de estar\n",
    " - Número mínino de banheiros\n",
    " - Valor máximo do preço\n",
    " - Tamanho máximo da área do porão\n",
    " - Filtro das condições do imóvel\n",
    " - Filtro por ano de construção\n",
    "\n",
    "5. Adicione os seguintes filtros no Dashboard:\n",
    "\n",
    " - Filtro por data disponível para compra\n",
    " - Filtro por ano de renovação\n",
    " - Filtro se possui vista para água ou não."
   ]
  },
  {
   "cell_type": "code",
   "execution_count": null,
   "metadata": {
    "ExecuteTime": {
     "end_time": "2021-02-08T17:01:52.756964Z",
     "start_time": "2021-02-08T17:01:52.467150Z"
    }
   },
   "outputs": [],
   "source": [
    "# 1. Qual a quantidade de imóveis por nível?\n",
    "\n",
    "# df_houses['nivel'].value_counts().plot.bar()\n",
    "\n",
    "style = {'description_width': 'initial'}\n",
    "# definindo o controle de nível\n",
    "level_control = widgets.SelectionSlider(\n",
    "    options=['Todos'] + df_houses['nivel'].sort_values().unique().tolist(),\n",
    "    value='Todos',\n",
    "    description='Nível',\n",
    "    disabled=False,\n",
    "    continuous_update=False,\n",
    "    orientation='horizontal',\n",
    "    readout=True,\n",
    "    style= style\n",
    ")\n",
    "\n",
    "\n",
    "def bar_graph_contr(df, **controllers_args):\n",
    "\n",
    "    nivel = controllers_args.get('level')\n",
    "    if nivel:\n",
    "        houses = df.query('nivel == @nivel').groupby('nivel').count().reset_index() if nivel != 'Todos' else df.groupby('nivel').count().reset_index()\n",
    "    \n",
    "    fig = px.bar(houses, x=\"nivel\", y=\"id\", title='quantidade de imóveis', \n",
    "             color_discrete_sequence=px.colors.qualitative.Set1)\n",
    "    fig.update_layout(\n",
    "        plot_bgcolor=\"white\",\n",
    "        margin=dict(t=30,l=0,b=0,r=0),\n",
    "        bargap=0.8\n",
    "    )\n",
    "    fig.show()\n",
    "\n",
    "\n",
    "    \n",
    "widgets.interactive( bar_graph_contr, df=fixed(df_houses), level=level_control )"
   ]
  },
  {
   "cell_type": "markdown",
   "metadata": {},
   "source": [
    "#### 2. Qual a média do tamanho da sala de estar dos imóveis por \"size\"?\n",
    " - Size 0: Tamanho entre 0 e 1427 sqft\n",
    " - Size 1: Tamanho entre 1427 e 1910 sqft\n",
    " - Size 2: Tamanho entre 1910 e 2550 sqft\n",
    " - Size 3: Tamanho acima de 2550 sqtf"
   ]
  },
  {
   "cell_type": "code",
   "execution_count": null,
   "metadata": {
    "ExecuteTime": {
     "end_time": "2021-02-08T17:01:16.055476Z",
     "start_time": "2021-02-08T17:01:16.044528Z"
    }
   },
   "outputs": [],
   "source": [
    "df_houses['size_room'] = df_houses['sqft_living'].apply(\n",
    "lambda tamanho:\n",
    "    'size_0' if 0 <= tamanho < 1427 else(\n",
    "        'size_1' if 1427 <= tamanho < 1910 else(\n",
    "            'size_2' if 1910 <= tamanho < 2550 else 'size_3'\n",
    "        )\n",
    "    )\n",
    ")"
   ]
  },
  {
   "cell_type": "code",
   "execution_count": null,
   "metadata": {
    "ExecuteTime": {
     "end_time": "2021-02-08T17:01:17.114635Z",
     "start_time": "2021-02-08T17:01:17.099676Z"
    }
   },
   "outputs": [],
   "source": [
    "df_houses['size_room'].sort_values().unique().tolist()"
   ]
  },
  {
   "cell_type": "code",
   "execution_count": null,
   "metadata": {
    "ExecuteTime": {
     "end_time": "2021-02-08T17:02:04.950199Z",
     "start_time": "2021-02-08T17:02:04.859417Z"
    }
   },
   "outputs": [],
   "source": [
    "\n",
    "# filtro de Tamanho\n",
    "size_control = widgets.SelectionSlider(\n",
    "    options=['Todos'] + df_houses['size_room'].sort_values().unique().tolist(),\n",
    "    value='Todos',\n",
    "    description='Tamanho',\n",
    "    disabled=False,\n",
    "    continuous_update=False,\n",
    "    orientation='horizontal',\n",
    "    readout=True,\n",
    "    style= style\n",
    ")\n",
    "\n",
    "\n",
    "\n",
    "\n",
    "def dash_graph_contr(df, **controllers_args):\n",
    "\n",
    "    nivel = controllers_args.get('level')\n",
    "    size = controllers_args.get('size')\n",
    "    \n",
    "    fig = make_subplots(\n",
    "        rows=1, cols=2,\n",
    "        shared_xaxes=True,\n",
    "        vertical_spacing=0.03,\n",
    "        specs=[[{\"type\": \"bar\"},{\"type\": \"bar\"}]]\n",
    "    )\n",
    "    \n",
    "    if nivel and size:\n",
    "        dnivel = df.groupby('nivel').count().reset_index()\n",
    "        dsize = df.groupby('size_room').agg({'sqft_living': 'mean'}).reset_index()\n",
    "        if nivel != 'Todos' and size != 'Todos':\n",
    "            dnivel = df.query('size_room == @size & nivel == @nivel').groupby('nivel').count().reset_index() \n",
    "            dsize = df.query('size_room == @size & nivel == @nivel').groupby('size_room').agg({'sqft_living': 'mean'}).reset_index()\n",
    "        if nivel == 'Todos' and size != 'Todos':\n",
    "            dnivel = df.query('size_room == @size').groupby('nivel').count().reset_index() \n",
    "            dsize = df.query('size_room == @size').groupby('size_room').agg({'sqft_living': 'mean'}).reset_index()\n",
    "        if nivel != 'Todos' and size == 'Todos':\n",
    "            dnivel = df.query('nivel == @nivel').groupby('nivel').count().reset_index() \n",
    "            dsize = df.query('nivel == @nivel').groupby('size_room').agg({'sqft_living': 'mean'}).reset_index()\n",
    "    \n",
    "    \n",
    "    trace1 = go.Bar(\n",
    "                name = 'qtd_nivel',\n",
    "                x = dnivel['nivel'].tolist(),\n",
    "                y = dnivel['id'].tolist(),\n",
    "            )\n",
    "    trace2 = go.Bar(\n",
    "                name = 'media_tamanho_sala',\n",
    "                x = dsize['size_room'].tolist(),\n",
    "                y = dsize['sqft_living'].tolist(),\n",
    "            )\n",
    "    \n",
    "    fig.append_trace(trace1, 1, 1)\n",
    "    fig.append_trace(trace2, 1, 2)\n",
    "    fig.update_layout(\n",
    "        height=600,\n",
    "        showlegend=False,\n",
    "        title_text=\"analise de nivel e tamanho da sala\"\n",
    "    )\n",
    "    fig.show()\n",
    "\n",
    "\n",
    "    \n",
    "widgets.interactive( dash_graph_contr, df=fixed(df_houses), level=level_control, size=size_control )"
   ]
  },
  {
   "cell_type": "markdown",
   "metadata": {
    "ExecuteTime": {
     "end_time": "2021-02-06T00:48:08.945163Z",
     "start_time": "2021-02-06T00:48:08.922164Z"
    }
   },
   "source": [
    "#### 3. Adicione as seguintes informações ao conjunto de dados original?\n",
    "\n",
    "- Place ID:Identificação da localização\n",
    "- OSM type: Open Street Map Type\n",
    "- Country: Nome do País\n",
    "- Country CODE: Código do País"
   ]
  },
  {
   "cell_type": "code",
   "execution_count": null,
   "metadata": {
    "ExecuteTime": {
     "end_time": "2021-02-08T17:03:13.406003Z",
     "start_time": "2021-02-08T17:03:12.533599Z"
    }
   },
   "outputs": [],
   "source": [
    "# Testando com uma geolocalização aleatoria\n",
    "\n",
    "response = geolocator.reverse('47.5045,-122.33')\n",
    "response.raw"
   ]
  },
  {
   "cell_type": "code",
   "execution_count": null,
   "metadata": {
    "ExecuteTime": {
     "end_time": "2021-02-08T17:03:20.586959Z",
     "start_time": "2021-02-08T17:03:20.580975Z"
    }
   },
   "outputs": [],
   "source": [
    "#  Criando novas colunas vazias no dataframe\n",
    "from numpy import nan\n",
    "\n",
    "df_houses['place_id'] = nan\n",
    "df_houses['osm_type'] = nan\n",
    "df_houses['country'] = nan\n",
    "df_houses['country_code'] = nan\n"
   ]
  },
  {
   "cell_type": "code",
   "execution_count": null,
   "metadata": {
    "ExecuteTime": {
     "end_time": "2021-02-08T17:13:47.589298Z",
     "start_time": "2021-02-08T17:13:47.584338Z"
    }
   },
   "outputs": [],
   "source": [
    "df_houses.columns.size\n",
    "df_houses.columns.get_loc('long')"
   ]
  },
  {
   "cell_type": "code",
   "execution_count": 2,
   "metadata": {
    "ExecuteTime": {
     "end_time": "2021-02-09T20:05:35.199767Z",
     "start_time": "2021-02-09T20:05:35.191803Z"
    },
    "code_folding": []
   },
   "outputs": [],
   "source": [
    "def iterdict(d, chave):\n",
    "    '''\n",
    "    Função para iterar recursivamente sobre um dicionario e retornar o valor da chave passada como parametro\n",
    "    \n",
    "    Keyword arguments:\n",
    "    d -- dictionary\n",
    "    chave -- name of the key to be searched\n",
    "    '''\n",
    "    from numpy import nan\n",
    "    \n",
    "    if chave in d: \n",
    "        return d[chave]\n",
    "    for v in d.values():        \n",
    "        if isinstance(v, dict):\n",
    "            return iterdict(dict(v), chave)\n",
    "            \n",
    "    return  nan\n",
    "\n",
    "\n",
    "\n",
    "def get_geo_attr(key_tuple, df ):\n",
    "    '''\n",
    "    Função para adicionar ao dataframe informações da API geopy.geocoders\n",
    "    \n",
    "    Keyword arguments:\n",
    "    key_tuple -- tupla com os nomes das chaves que contém as informações da API a serem adicionadas ao dataframe\n",
    "    df -- dataframe que deve conter as colunas a serem populadas com os nomes das chaves key_tuple, bem como as \n",
    "    colunas \"lat\" e \"long\" com dados de latitude e longitude a serem usados como query para pesquisa na API\n",
    "    '''\n",
    "    \n",
    "    from geopy.geocoders import Nominatim\n",
    "    from geopy.exc import GeocoderTimedOut\n",
    "    from tqdm.notebook import trange\n",
    "    \n",
    "    geolocator = Nominatim( user_agent='geoapiExercicises' )\n",
    "\n",
    "    for i in trange( len(df) ):\n",
    "\n",
    "        # Implementando cache caso tenha que rodar de novo o laço for. Verifica o preenchimento na coluna cujo nome \n",
    "        # é a primeteamira chave da tupla key_tuple\n",
    "        if pd.isna(df.iloc[i, df.columns.get_loc(key_tuple[0])]) == False:\n",
    "            continue\n",
    "\n",
    "        # Montando a string de busca com os dados de 'lat' e 'long'\n",
    "        query = str(df.iloc[i, df.columns.get_loc('lat')]) + ',' + str(df.iloc[i, df.columns.get_loc('long')])\n",
    "\n",
    "        # API request\n",
    "        try:\n",
    "            response = geolocator.reverse(query)\n",
    "        except GeocoderTimedOut:\n",
    "            continue\n",
    "\n",
    "        # Popula o dataframe com os dados da API conforme as chaves passadas na tupla key_tuple:\n",
    "        for chave in key_tuple:\n",
    "            df.iloc[i, df.columns.get_loc(chave)] = iterdict(dict(response.raw), chave)\n",
    "           \n",
    "    \n",
    "    return df\n"
   ]
  },
  {
   "cell_type": "code",
   "execution_count": null,
   "metadata": {
    "ExecuteTime": {
     "end_time": "2021-02-08T20:24:53.558796Z",
     "start_time": "2021-02-08T17:25:20.760067Z"
    }
   },
   "outputs": [],
   "source": [
    "novas_infos = ('place_id', 'osm_type', 'country', 'country_code')\n",
    "df_houses = get_geo_attr(novas_infos, df_houses)"
   ]
  },
  {
   "cell_type": "code",
   "execution_count": null,
   "metadata": {
    "ExecuteTime": {
     "end_time": "2021-02-08T20:37:29.017643Z",
     "start_time": "2021-02-08T20:37:28.991738Z"
    }
   },
   "outputs": [],
   "source": [
    "# verificando se as informações preenchidas\n",
    "df_houses.sample(10)"
   ]
  },
  {
   "cell_type": "code",
   "execution_count": null,
   "metadata": {
    "ExecuteTime": {
     "end_time": "2021-02-08T20:38:37.189007Z",
     "start_time": "2021-02-08T20:38:36.775022Z"
    }
   },
   "outputs": [],
   "source": [
    "# salvando num arquivo pra não precisar fazer de novo\n",
    "df_houses.to_csv('dados/processados/kc_house_data_comp.csv', index=False)"
   ]
  },
  {
   "cell_type": "markdown",
   "metadata": {},
   "source": [
    "#### 4. Adicione os seguintes filtros no mapa:\n",
    " - Tamanho mínimo da área da sala de estar\n",
    " - Número mínino de banheiros\n",
    " - Valor máximo do preço\n",
    " - Tamanho máximo da área do porão\n",
    " - Filtro das condições do imóvel\n",
    " - Filtro por ano de construção"
   ]
  },
  {
   "cell_type": "code",
   "execution_count": 4,
   "metadata": {
    "ExecuteTime": {
     "end_time": "2021-02-09T15:03:29.592426Z",
     "start_time": "2021-02-09T15:03:29.481663Z"
    }
   },
   "outputs": [],
   "source": [
    "# Abrindo o arquivo já com os dados que foram coletados da API Geopy\n",
    "# \n",
    "# Isso foi feito, pois ao fechar o notebook antes de concluir todos o exercícios, e depois abrir novamente\n",
    "# para dar continuidade aos exercícios, não é necessário coletar novamente os dados da API, pois é muito demorado\n",
    "# \n",
    "\n",
    "df_houses = pd.read_csv('dados/processados/kc_house_data_comp.csv', parse_dates=['date'], \n",
    "                       infer_datetime_format=True, dtype={'condition': str })"
   ]
  },
  {
   "cell_type": "code",
   "execution_count": 7,
   "metadata": {
    "ExecuteTime": {
     "end_time": "2021-02-09T15:04:04.968999Z",
     "start_time": "2021-02-09T15:04:04.930103Z"
    }
   },
   "outputs": [],
   "source": [
    "from ipywidgets import Layout\n",
    "\n",
    "style = {'description_width': 'initial', 'handle_color': 'yellow'}\n",
    "form_item_layout = Layout(\n",
    "    display='flex',\n",
    "    flex_flow='row',\n",
    "    justify_content='space-between',\n",
    "    width='auto'\n",
    ")\n",
    "\n",
    "# Filtro de tamanho da área da sala de estar\n",
    "livroom_limit = widgets.IntSlider(\n",
    "    value = 50,\n",
    "    min = 5,\n",
    "    max = 14000,\n",
    "    step = 2,\n",
    "    description = 'T. Min. Sala',\n",
    "    disable = False,\n",
    "    style = style,\n",
    "    readout=True,\n",
    "    layout = form_item_layout\n",
    ")\n",
    "\n",
    "# Filtro de Número mínino de banheiros\n",
    "bath_limit = widgets.IntSlider(\n",
    "    value = 0,\n",
    "    min = 1,\n",
    "    max = 10,\n",
    "    step = 1,\n",
    "    description = 'Qtd. Min. Banheiros',\n",
    "    disable = False,\n",
    "    style = style,\n",
    "    readout=True,\n",
    "    layout = form_item_layout\n",
    ")\n",
    "\n",
    "# Filtro de Valor máximo do preço\n",
    "price_limit = widgets.IntSlider(\n",
    "    value = 540000,\n",
    "    min = 75000,\n",
    "    max = 77000000,\n",
    "    step = 10,\n",
    "    description = 'Max. Preço',\n",
    "    disable = False,\n",
    "    style = style,\n",
    "    readout=True,\n",
    "    layout = form_item_layout\n",
    ")\n",
    "\n",
    "# Filtro das condições do imóvel\n",
    "condition_limit = widgets.SelectionSlider(\n",
    "    options=['Todas'] + df_houses['condition'].sort_values().unique().tolist(),\n",
    "    value='Todas',\n",
    "    description='Condição',\n",
    "    disabled=False,\n",
    "    continuous_update=False,\n",
    "    orientation='horizontal',\n",
    "    readout=True,\n",
    "    style= style,\n",
    "    layout = form_item_layout\n",
    ")\n",
    "\n",
    "# Filtro por ano de construção\n",
    "yb = [(i,i) for i in df_houses['yr_built'].sort_values().unique()]\n",
    "yrbuilt_limit = widgets.SelectionRangeSlider(\n",
    "    options=yb,\n",
    "    index=(0,len(yb)-1),\n",
    "    description='Ano Constr.',\n",
    "    disabled=False,\n",
    "    style = style,\n",
    "    readout=True,\n",
    "    layout = form_item_layout\n",
    ")\n"
   ]
  },
  {
   "cell_type": "code",
   "execution_count": 13,
   "metadata": {
    "ExecuteTime": {
     "end_time": "2021-02-09T16:58:45.443462Z",
     "start_time": "2021-02-09T16:58:45.220993Z"
    }
   },
   "outputs": [
    {
     "data": {
      "application/vnd.jupyter.widget-view+json": {
       "model_id": "e6dbcf37120f4c018edd928539edfcfa",
       "version_major": 2,
       "version_minor": 0
      },
      "text/plain": [
       "interactive(children=(IntSlider(value=50, description='T. Min. Sala', layout=Layout(display='flex', flex_flow=…"
      ]
     },
     "metadata": {},
     "output_type": "display_data"
    }
   ],
   "source": [
    "def map_contr(df, **controllers_args):\n",
    "\n",
    "    livroom = controllers_args.get('livroom')\n",
    "    bath = controllers_args.get('bath')\n",
    "    price = controllers_args.get('price')\n",
    "    condition = controllers_args.get('condition')\n",
    "    yrbuilt = controllers_args.get('yrbuilt')\n",
    "    \n",
    "    # Exercicio 05\n",
    "    date = controllers_args.get('date')\n",
    "    yrreno = controllers_args.get('yrreno')\n",
    "    waterfront = controllers_args.get('waterfront')\n",
    "    \n",
    "    \n",
    "    dhouses = df.query('sqft_living >= @livroom & bathrooms >= @bath & price <= @price & @yrbuilt[0] <= yr_built <= @yrbuilt[1]')[['id', 'lat', 'long', 'price', 'sqft_living']]\n",
    "    if condition != 'Todas':\n",
    "        dhouses = df.query('sqft_living >= @livroom & bathrooms >= @bath & price <= @price & @yrbuilt[0] <= yr_built <= @yrbuilt[1] & condition == @condition')[['id', 'lat', 'long', 'price', 'sqft_living']]\n",
    "\n",
    "    if date and yrreno and waterfront:\n",
    "        if condition != 'Todas':\n",
    "            dhouses = df.query('sqft_living >= @livroom & bathrooms >= @bath & price <= @price & @yrbuilt[0] <= yr_built <= @yrbuilt[1] & condition == @condition & \\\n",
    "                           @date[0] <= date <= @date[1] & @yrreno[0] <= yr_renovated <= @yrreno[1] & waterfront == @waterfront')[['id', 'lat', 'long', 'price', 'sqft_living']]\n",
    "        else:\n",
    "            dhouses = df.query('sqft_living >= @livroom & bathrooms >= @bath & price <= @price & @yrbuilt[0] <= yr_built <= @yrbuilt[1] & \\\n",
    "                           @date[0] <= date <= @date[1] & @yrreno[0] <= yr_renovated <= @yrreno[1] & waterfront == @waterfront')[['id', 'lat', 'long', 'price', 'sqft_living']]\n",
    "    \n",
    "    \n",
    "    \n",
    "    mapa = px.scatter_mapbox( dhouses, lat='lat', lon='long',  \n",
    "                     hover_name='id',\n",
    "                     hover_data=['price'],\n",
    "                     color_continuous_scale= px.colors.diverging.Portland,\n",
    "                     color='sqft_living',\n",
    "                     size='price',\n",
    "                     height=250,\n",
    "                     zoom= 9)\n",
    "    mapa.update_layout(mapbox_style='open-street-map')\n",
    "    mapa.update_layout(height=600, margin={'r':0, 't':0, 'l':0, 'b':0})\n",
    "    mapa.show()\n",
    "\n",
    "\n",
    "    \n",
    "widgets.interactive( map_contr, df=fixed(df_houses), \n",
    "                    livroom=livroom_limit, \n",
    "                    bath=bath_limit, \n",
    "                    price=price_limit, \n",
    "                    condition=condition_limit, \n",
    "                    yrbuilt=yrbuilt_limit )"
   ]
  },
  {
   "cell_type": "markdown",
   "metadata": {},
   "source": [
    "#### 5. Adicione os seguintes filtros no Dashboard:\n",
    "\n",
    " - Filtro por data disponível para compra\n",
    " - Filtro por ano de renovação\n",
    " - Filtro se possui vista para água ou não."
   ]
  },
  {
   "cell_type": "code",
   "execution_count": 14,
   "metadata": {
    "ExecuteTime": {
     "end_time": "2021-02-09T16:58:57.205282Z",
     "start_time": "2021-02-09T16:58:57.144444Z"
    }
   },
   "outputs": [],
   "source": [
    "#  Filtro por data disponível para compra\n",
    "dates = [(pd.to_datetime(i).strftime('%d/%m/%Y'),pd.to_datetime(i)) for i in df_houses['date'].sort_values().unique()]\n",
    "date_limit = widgets.SelectionRangeSlider(\n",
    "    options=dates,\n",
    "    index=(0,len(dates)-1),\n",
    "    description='Data',\n",
    "    disabled=False,\n",
    "    style = style,\n",
    "    readout=True,\n",
    "    layout = form_item_layout\n",
    ")\n",
    "\n",
    "# Filtro por ano de renovação\n",
    "yr = [(i,i) for i in df_houses['yr_renovated'].sort_values().unique()]\n",
    "yrreno_limit = widgets.SelectionRangeSlider(\n",
    "    options=yr,\n",
    "    index=(0,len(yr)-1),\n",
    "    description='Ano Renov.',\n",
    "    disabled=False,\n",
    "    style = style,\n",
    "    readout=True,\n",
    "    layout = form_item_layout\n",
    ")\n",
    "\n",
    "\n",
    "# Filtro se possui vista para águas ou não.\n",
    "waterfront_bar = widgets.Dropdown(\n",
    "    options = df_houses['waterfront'].unique().tolist(),\n",
    "    value = 0,\n",
    "    description = 'Vista para água',\n",
    "    disable=False,\n",
    "    style = style,\n",
    "    layout = form_item_layout\n",
    ")"
   ]
  },
  {
   "cell_type": "code",
   "execution_count": 15,
   "metadata": {
    "ExecuteTime": {
     "end_time": "2021-02-09T16:58:59.779197Z",
     "start_time": "2021-02-09T16:58:59.564771Z"
    }
   },
   "outputs": [
    {
     "data": {
      "application/vnd.jupyter.widget-view+json": {
       "model_id": "15c641aeecf84accaf7805c9eb9af273",
       "version_major": 2,
       "version_minor": 0
      },
      "text/plain": [
       "interactive(children=(IntSlider(value=50, description='T. Min. Sala', layout=Layout(display='flex', flex_flow=…"
      ]
     },
     "metadata": {},
     "output_type": "display_data"
    }
   ],
   "source": [
    "widgets.interactive( map_contr, df=fixed(df_houses), \n",
    "                    livroom=livroom_limit, \n",
    "                    bath=bath_limit, \n",
    "                    price=price_limit, \n",
    "                    condition=condition_limit, \n",
    "                    yrbuilt=yrbuilt_limit,\n",
    "                    date = date_limit,\n",
    "                    yrreno = yrreno_limit,\n",
    "                    waterfront = waterfront_bar)"
   ]
  },
  {
   "cell_type": "code",
   "execution_count": 5,
   "metadata": {
    "ExecuteTime": {
     "end_time": "2021-02-10T19:56:34.323308Z",
     "start_time": "2021-02-10T19:56:34.313336Z"
    }
   },
   "outputs": [
    {
     "data": {
      "text/plain": [
       "2014-06-23    142\n",
       "2014-06-25    130\n",
       "2014-06-26    127\n",
       "2015-04-27    126\n",
       "2015-03-25    123\n",
       "             ... \n",
       "2014-07-27      1\n",
       "2014-08-03      1\n",
       "2014-11-15      1\n",
       "2014-11-02      1\n",
       "2015-05-24      1\n",
       "Name: date, Length: 372, dtype: int64"
      ]
     },
     "execution_count": 5,
     "metadata": {},
     "output_type": "execute_result"
    }
   ],
   "source": [
    "df_houses['date'].value_counts()"
   ]
  }
 ],
 "metadata": {
  "kernelspec": {
   "display_name": "zero-ao-ds",
   "language": "python",
   "name": "zero-ao-ds"
  },
  "language_info": {
   "codemirror_mode": {
    "name": "ipython",
    "version": 3
   },
   "file_extension": ".py",
   "mimetype": "text/x-python",
   "name": "python",
   "nbconvert_exporter": "python",
   "pygments_lexer": "ipython3",
   "version": "3.9.1"
  }
 },
 "nbformat": 4,
 "nbformat_minor": 4
}
