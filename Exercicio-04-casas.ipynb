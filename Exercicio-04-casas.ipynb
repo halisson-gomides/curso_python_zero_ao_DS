{
 "cells": [
  {
   "cell_type": "markdown",
   "metadata": {},
   "source": [
    "### Exercícios da Aula 04\n",
    "---\n",
    " \n",
    "Author : Halisson S. Gomides - halisson.gomides@gmail.com\n",
    "\n",
    "Date : 29/01/2021\n",
    "\n",
    "---\n",
    "\n",
    "### Conjunto de dados House Sales in King County, USA\n",
    ">https://www.kaggle.com/harlfoxem/housesalesprediction\n",
    "\n",
    "\n",
    "### Respondendo perguntas do CEO:\n",
    "\n",
    "1. Adicione as seguintes informações ao imóvel:\n",
    "        - O nome da Rua\n",
    "        - O número do imóvel\n",
    "        - O nome do Bairro\n",
    "        - O nome da Cidade\n",
    "        - O nome do Estado\n",
    "        \n",
    "2. Onde tem essas informações: API chamada GEOPY\n",
    "3. Fazer o link com 'zipcode' e 'lat' e 'long'"
   ]
  },
  {
   "cell_type": "code",
   "execution_count": null,
   "metadata": {
    "ExecuteTime": {
     "end_time": "2021-02-09T15:01:18.744175Z",
     "start_time": "2021-02-09T15:01:13.554184Z"
    }
   },
   "outputs": [],
   "source": [
    "import pandas as pd\n",
    "%config Completer.use_jedi = False "
   ]
  },
  {
   "cell_type": "code",
   "execution_count": null,
   "metadata": {
    "ExecuteTime": {
     "end_time": "2021-02-08T13:56:17.653900Z",
     "start_time": "2021-02-08T13:56:17.567043Z"
    }
   },
   "outputs": [],
   "source": [
    "dfhouses = pd.read_csv('dados/originais/kc_house_data.csv.zip', \n",
    "                       parse_dates=['date'], \n",
    "                       infer_datetime_format=True,\n",
    "                      dtype={'condition': str })"
   ]
  },
  {
   "cell_type": "code",
   "execution_count": null,
   "metadata": {
    "ExecuteTime": {
     "end_time": "2021-02-05T16:26:15.659923Z",
     "start_time": "2021-02-05T16:26:15.631000Z"
    }
   },
   "outputs": [],
   "source": [
    "dfhouses.head()"
   ]
  },
  {
   "cell_type": "code",
   "execution_count": null,
   "metadata": {
    "ExecuteTime": {
     "end_time": "2021-02-08T13:56:21.448598Z",
     "start_time": "2021-02-08T13:56:21.431632Z"
    }
   },
   "outputs": [],
   "source": [
    "dfhouses.info()"
   ]
  },
  {
   "cell_type": "code",
   "execution_count": null,
   "metadata": {
    "ExecuteTime": {
     "end_time": "2021-01-12T13:38:11.613750Z",
     "start_time": "2021-01-12T13:38:10.435739Z"
    }
   },
   "outputs": [],
   "source": [
    "# Verificando se existem indices duplicados\n",
    "\n",
    "for k,v in dfhouses['id'].value_counts().to_dict().items():\n",
    "    if v > 1: \n",
    "        print(k, v)\n",
    "        print(dfhouses.loc[dfhouses['id'] == k])\n",
    "\n",
    "        "
   ]
  },
  {
   "cell_type": "code",
   "execution_count": null,
   "metadata": {
    "ExecuteTime": {
     "end_time": "2021-02-08T13:56:27.488584Z",
     "start_time": "2021-02-08T13:56:27.319905Z"
    }
   },
   "outputs": [],
   "source": [
    "# Removendo as casas com IDs duplicados, mantendo apenas o registro com a data mais recente\n",
    "\n",
    "df_houses = dfhouses.sort_values(by=['id', 'date'])\n",
    "# df_order.head(10)\n",
    "df_houses.drop_duplicates(subset=['id'], keep='last', inplace=True)\n",
    "\n",
    "# testando o resultado com um id que eu sei que era duplicado\n",
    "df_houses.query('id == 795000620')"
   ]
  },
  {
   "cell_type": "markdown",
   "metadata": {},
   "source": [
    "#### 1. Qual a quantidade de imóveis por nível?\n",
    " - Nivel 0: Preço entre 0.00 e 321.950\n",
    " - Nivel 1: Preço entre 321.950 e 450.000\n",
    " - Nivel 2: Preço entre 450.000 e 645.000\n",
    " - Nivel 3: Preço Acima de 645.000"
   ]
  },
  {
   "cell_type": "code",
   "execution_count": null,
   "metadata": {
    "ExecuteTime": {
     "end_time": "2021-02-08T13:56:31.164917Z",
     "start_time": "2021-02-08T13:56:31.151952Z"
    }
   },
   "outputs": [],
   "source": [
    "# Estabelecendo nivel para as casas de acordo com o preço\n",
    "\n",
    "df_houses['nivel'] = df_houses['price'].apply(\n",
    "lambda preco:\n",
    "    'nivel_0' if 0 <= preco < 321950 else(\n",
    "        'nivel_1' if 321950 <= preco < 450000 else(\n",
    "            'nivel_2' if 450000 <= preco < 645000 else 'nivel_3'\n",
    "        )\n",
    "    )\n",
    ")"
   ]
  },
  {
   "cell_type": "code",
   "execution_count": null,
   "metadata": {
    "ExecuteTime": {
     "end_time": "2021-02-05T16:26:59.189652Z",
     "start_time": "2021-02-05T16:26:59.180676Z"
    }
   },
   "outputs": [],
   "source": [
    "df_houses['nivel'].value_counts()"
   ]
  },
  {
   "cell_type": "code",
   "execution_count": null,
   "metadata": {
    "ExecuteTime": {
     "end_time": "2021-02-05T16:30:01.432636Z",
     "start_time": "2021-02-05T16:29:51.091349Z"
    }
   },
   "outputs": [],
   "source": [
    "# !pip install geopy\n",
    "# !pip install tqdm"
   ]
  },
  {
   "cell_type": "code",
   "execution_count": null,
   "metadata": {
    "ExecuteTime": {
     "end_time": "2021-02-08T13:56:36.535436Z",
     "start_time": "2021-02-08T13:56:36.007449Z"
    }
   },
   "outputs": [],
   "source": [
    "from geopy.geocoders import Nominatim\n",
    "from geopy.exc import GeocoderTimedOut"
   ]
  },
  {
   "cell_type": "code",
   "execution_count": null,
   "metadata": {
    "ExecuteTime": {
     "end_time": "2021-02-08T13:56:42.546877Z",
     "start_time": "2021-02-08T13:56:42.542887Z"
    }
   },
   "outputs": [],
   "source": [
    "# Inicializando Nominatim API\n",
    "\n",
    "geolocator = Nominatim( user_agent='geoapiExercicises' )"
   ]
  },
  {
   "cell_type": "code",
   "execution_count": null,
   "metadata": {
    "ExecuteTime": {
     "end_time": "2021-02-06T00:55:55.821103Z",
     "start_time": "2021-02-06T00:55:54.986096Z"
    }
   },
   "outputs": [],
   "source": [
    "# Testando com uma geolocalização aleatoria\n",
    "\n",
    "response = geolocator.reverse('47.5045,-122.33')\n",
    "response.raw"
   ]
  },
  {
   "cell_type": "markdown",
   "metadata": {},
   "source": [
    "#### 2. Adicione as seguintes informações ao imóvel:\n",
    " - Nome da Rua\n",
    " - Número do imóvel\n",
    " - O nome do Bairro\n",
    " - O nome da cidade\n",
    " - O nome do estado"
   ]
  },
  {
   "cell_type": "code",
   "execution_count": null,
   "metadata": {
    "ExecuteTime": {
     "end_time": "2021-02-08T13:57:02.935257Z",
     "start_time": "2021-02-08T13:57:02.927279Z"
    }
   },
   "outputs": [],
   "source": [
    "#  Criando novas colunas vazias no dataframe\n",
    "import numpy as np\n",
    "\n",
    "df_houses['road'] = np.nan\n",
    "df_houses['house_number'] = np.nan\n",
    "df_houses['neighbourhood'] = np.nan\n",
    "df_houses['city'] = np.nan\n",
    "df_houses['state'] = np.nan"
   ]
  },
  {
   "cell_type": "code",
   "execution_count": null,
   "metadata": {
    "ExecuteTime": {
     "end_time": "2021-02-05T16:28:36.404349Z",
     "start_time": "2021-02-05T16:28:36.372435Z"
    }
   },
   "outputs": [],
   "source": [
    "df_houses.tail()"
   ]
  },
  {
   "cell_type": "code",
   "execution_count": null,
   "metadata": {
    "ExecuteTime": {
     "end_time": "2021-02-08T13:57:08.764485Z",
     "start_time": "2021-02-08T13:57:08.759500Z"
    }
   },
   "outputs": [],
   "source": [
    "# verificando a integridade das colunas lat e long\n",
    "\n",
    "print(df_houses['lat'].isnull().sum())\n",
    "print(df_houses['long'].isnull().sum())"
   ]
  },
  {
   "cell_type": "code",
   "execution_count": null,
   "metadata": {
    "ExecuteTime": {
     "end_time": "2021-02-08T16:57:05.582836Z",
     "start_time": "2021-02-08T13:57:33.416857Z"
    }
   },
   "outputs": [],
   "source": [
    "from tqdm.notebook import trange\n",
    "\n",
    "for i in trange( len(df_houses) ):\n",
    "    \n",
    "    # Implementando cache caso tenha que rodar de novo o laço for usando a coluna \"house_number\"\n",
    "    if pd.isna(df_houses.iloc[i, 23]) == False:\n",
    "        continue\n",
    "    \n",
    "    # Logando o percentual de varredura do dataframe    \n",
    "#     perc = (i/len(df_houses))*100\n",
    "#     if perc >= 1 and round(perc,2) % 2 == 0:\n",
    "#         print(f'{perc:.3f}%')\n",
    "    \n",
    "    # Montando a string de busca com os dados de 'lat' e 'long'\n",
    "    query = str(df_houses.iloc[i, 17]) + ',' + str(df_houses.iloc[i, 18])\n",
    "    \n",
    "    # API request\n",
    "    try:\n",
    "        response = geolocator.reverse(query)\n",
    "    except GeocoderTimedOut:\n",
    "        continue\n",
    "    \n",
    "    # Popula o dataframe com os dados da API\n",
    "    if 'road' in response.raw['address']:\n",
    "        df_houses.iloc[i, 22] = response.raw['address']['road']\n",
    "    \n",
    "    if 'house_number' in response.raw['address']:\n",
    "        df_houses.iloc[i, 23] = response.raw['address']['house_number']\n",
    "        \n",
    "    if 'neighbourhood' in response.raw['address']:\n",
    "        df_houses.iloc[i, 24] = response.raw['address']['neighbourhood']\n",
    "        \n",
    "    if 'city' in response.raw['address']:\n",
    "        df_houses.iloc[i, 25] = response.raw['address']['city']\n",
    "        \n",
    "    if 'state' in response.raw['address']:\n",
    "        df_houses.iloc[i, 26] = response.raw['address']['state']\n",
    "        "
   ]
  },
  {
   "cell_type": "code",
   "execution_count": null,
   "metadata": {
    "ExecuteTime": {
     "end_time": "2021-02-08T16:59:17.713120Z",
     "start_time": "2021-02-08T16:59:17.673230Z"
    }
   },
   "outputs": [],
   "source": [
    "df_houses.tail()"
   ]
  },
  {
   "cell_type": "code",
   "execution_count": null,
   "metadata": {
    "ExecuteTime": {
     "end_time": "2021-02-08T16:59:27.650801Z",
     "start_time": "2021-02-08T16:59:27.243803Z"
    }
   },
   "outputs": [],
   "source": [
    "# salvando num arquivo pra não precisar fazer de novo\n",
    "df_houses.to_csv('dados/processados/kc_house_data_comp.csv', index=False)"
   ]
  },
  {
   "cell_type": "markdown",
   "metadata": {},
   "source": [
    "#### 3. Adicione o nível do imóvel no mapa como uma cor"
   ]
  },
  {
   "cell_type": "code",
   "execution_count": 1,
   "metadata": {
    "ExecuteTime": {
     "end_time": "2021-02-10T19:55:45.538884Z",
     "start_time": "2021-02-10T19:55:40.525192Z"
    }
   },
   "outputs": [],
   "source": [
    "import pandas as pd\n",
    "import plotly.express as px\n",
    "#  Importando os componentes necessarios para formatação da tabela de valores\n",
    "import plotly.graph_objects as go\n",
    "import plotly.figure_factory as ff\n",
    "from plotly.subplots import make_subplots\n",
    "\n",
    "%config Completer.use_jedi = False "
   ]
  },
  {
   "cell_type": "code",
   "execution_count": 2,
   "metadata": {
    "ExecuteTime": {
     "end_time": "2021-02-10T19:55:46.161525Z",
     "start_time": "2021-02-10T19:55:46.050760Z"
    }
   },
   "outputs": [],
   "source": [
    "df_houses = pd.read_csv('dados/processados/kc_house_data_comp.csv', parse_dates=['date'], \n",
    "                       infer_datetime_format=True)"
   ]
  },
  {
   "cell_type": "code",
   "execution_count": null,
   "metadata": {
    "ExecuteTime": {
     "end_time": "2021-02-05T14:55:17.111144Z",
     "start_time": "2021-02-05T14:55:09.237209Z"
    }
   },
   "outputs": [],
   "source": [
    "lst_columns = ['id', 'lat', 'long', 'price', 'nivel']\n",
    "mapa = px.scatter_mapbox( df_houses[lst_columns], lat='lat', lon='long',  \n",
    "                     hover_name='id',\n",
    "                     hover_data=['price'],\n",
    "                     color_continuous_scale= \"IceFire\",\n",
    "                     color='nivel',\n",
    "                     size='price',\n",
    "                     height=300,\n",
    "                     zoom= 9)\n",
    "mapa.update_layout(mapbox_style='open-street-map')\n",
    "mapa.update_layout(height=600, margin={'r':0, 't':0, 'l':0, 'b':0})\n",
    "mapa.show()"
   ]
  },
  {
   "cell_type": "markdown",
   "metadata": {},
   "source": [
    "#### 4. Adicione o preço do imóvel como o tamanho do ponto no mapa"
   ]
  },
  {
   "cell_type": "code",
   "execution_count": null,
   "metadata": {
    "ExecuteTime": {
     "end_time": "2021-02-02T00:34:26.408391Z",
     "start_time": "2021-02-02T00:34:25.599387Z"
    }
   },
   "outputs": [],
   "source": [
    "lst_columns = ['id', 'lat', 'long', 'price']\n",
    "mapa = px.scatter_mapbox( df_houses[lst_columns], lat='lat', lon='long',  \n",
    "                     hover_name='id',\n",
    "                     hover_data=['price'],\n",
    "                     color_continuous_scale= px.colors.cyclical.IceFire,\n",
    "                     size='price',\n",
    "                     size_max=15,\n",
    "                     height=300,\n",
    "                     zoom= 9)\n",
    "mapa.update_layout(mapbox_style='open-street-map')\n",
    "mapa.update_layout(height=600, margin={'r':0, 't':0, 'l':0, 'b':0})\n",
    "mapa.show()"
   ]
  },
  {
   "cell_type": "markdown",
   "metadata": {},
   "source": [
    "#### 5. Adicione opções de filtros para fazer as próprias análises\n",
    "  - Eu quero escolher visualizar imóveis com vista para água ou não\n",
    "  - Eu quero escolher visualizar imóveis até um certo valor de preço\n",
    "  "
   ]
  },
  {
   "cell_type": "code",
   "execution_count": 6,
   "metadata": {
    "ExecuteTime": {
     "end_time": "2021-02-09T15:03:56.908532Z",
     "start_time": "2021-02-09T15:03:56.905569Z"
    },
    "scrolled": true
   },
   "outputs": [],
   "source": [
    "import ipywidgets as widgets\n",
    "from ipywidgets import fixed"
   ]
  },
  {
   "cell_type": "code",
   "execution_count": null,
   "metadata": {
    "ExecuteTime": {
     "end_time": "2021-02-08T17:00:41.636946Z",
     "start_time": "2021-02-08T17:00:41.611988Z"
    }
   },
   "outputs": [],
   "source": [
    "df_houses['is_waterfront'] = df_houses['waterfront'].apply(lambda x: 'yes' if x == 1 else 'no')\n",
    "\n",
    "style = {'description_width': 'initial'}\n",
    "\n",
    "# Interative buttons\n",
    "price_limit = widgets.IntSlider(\n",
    "    value = 540000,\n",
    "    min = 75000,\n",
    "    max = 77000000,\n",
    "    step = 10,\n",
    "    description = 'Maximum Price',\n",
    "    disable = False,\n",
    "    style = style,\n",
    "    readout=True\n",
    ")\n",
    "\n",
    "waterfront_bar = widgets.Dropdown(\n",
    "    options = df_houses['is_waterfront'].unique().tolist(),\n",
    "    value = 'yes',\n",
    "    description = 'Water View',\n",
    "    disable=False\n",
    ")\n",
    "\n",
    "def update_map(df, waterfront, limit):\n",
    "\n",
    "#     houses = df.loc[(df['price'] <= limit) & (df['is_waterfront'] == waterfront)][['id', 'lat', 'long', 'price', 'nivel']]\n",
    "    houses = df.query('price <= @limit & is_waterfront == @waterfront')[['id', 'lat', 'long', 'price', 'nivel']]\n",
    "    mapa = px.scatter_mapbox( houses, lat='lat', lon='long',  \n",
    "                     hover_name='id',\n",
    "                     hover_data=['price'],\n",
    "                     color_continuous_scale= \"IceFire\",\n",
    "                     color='nivel',\n",
    "                     size='price',\n",
    "                     height=250,\n",
    "                     zoom= 9)\n",
    "    mapa.update_layout(mapbox_style='open-street-map')\n",
    "    mapa.update_layout(height=600, margin={'r':0, 't':0, 'l':0, 'b':0})\n",
    "    mapa.show()\n"
   ]
  },
  {
   "cell_type": "code",
   "execution_count": null,
   "metadata": {
    "ExecuteTime": {
     "end_time": "2021-02-08T17:00:49.632562Z",
     "start_time": "2021-02-08T17:00:43.035116Z"
    }
   },
   "outputs": [],
   "source": [
    "widgets.interactive( update_map, df=fixed(df_houses), waterfront=waterfront_bar, limit=price_limit)"
   ]
  },
  {
   "cell_type": "markdown",
   "metadata": {},
   "source": [
    "#### 6. Adicionar opções de filtros no últimos dashboard enviado:\n",
    "   - Visualizar somente valores a partir de uma data disponível para compra"
   ]
  },
  {
   "cell_type": "code",
   "execution_count": null,
   "metadata": {
    "ExecuteTime": {
     "end_time": "2021-02-05T15:46:38.092858Z",
     "start_time": "2021-02-05T15:46:36.565953Z"
    }
   },
   "outputs": [],
   "source": [
    "from matplotlib import gridspec\n",
    "from matplotlib import pyplot as plt"
   ]
  },
  {
   "cell_type": "code",
   "execution_count": null,
   "metadata": {
    "ExecuteTime": {
     "end_time": "2021-02-05T15:46:38.988457Z",
     "start_time": "2021-02-05T15:46:38.413997Z"
    }
   },
   "outputs": [],
   "source": [
    "# alterando o formato da data\n",
    "\n",
    "df_houses['year'] = pd.to_datetime(df_houses['date']).dt.isocalendar().year\n",
    "df_houses['year_week'] = pd.to_datetime(df_houses['date']).dt.strftime('%Y-%U') \n",
    "df_houses['date'] = pd.to_datetime(df_houses['date']).dt.strftime('%Y-%m-%d')\n",
    "\n",
    "\n",
    "# Controle Widget para data\n",
    "date_limit = widgets.SelectionSlider(\n",
    "    options= df_houses['date'].sort_values().unique().tolist(),\n",
    "    value= '2014-12-01',\n",
    "    description= 'Disponivel',\n",
    "    continuous_update= False,\n",
    "    orientation= 'horizontal',\n",
    "    readout= True\n",
    ")\n",
    "\n",
    "def update_map2(data, limit):\n",
    "    df = data[data['date'] >= limit].copy()\n",
    "    \n",
    "    fig = plt.figure( figsize=(21,12) )\n",
    "    specs = gridspec.GridSpec(ncols=2, nrows=2, figure=fig)\n",
    "    \n",
    "    ax1 = fig.add_subplot( specs[0, :] ) # primeira linha, todas colunas\n",
    "    ax2 = fig.add_subplot( specs[1, 0] ) # segunda linha, primeira coluna\n",
    "    ax3 = fig.add_subplot( specs[1, 1] ) # segunda linha, segunda coluna\n",
    "    \n",
    "    by_year = df[['id', 'year']].groupby('year').sum().reset_index()\n",
    "    ax1.bar( by_year['year'], by_year['id'] )\n",
    "    \n",
    "    by_day = df[['id', 'date']].groupby('date').mean().reset_index()\n",
    "    ax2.plot( by_day['date'], by_day['id'] )\n",
    "    ax2.set_title('Avg Price by Day')\n",
    "    \n",
    "    by_week = df[['id', 'year_week']].groupby('year_week').mean().reset_index()\n",
    "    ax3.bar( by_week['year_week'], by_week['id'] )\n",
    "    ax3.set_title('Avg Price by Week Of Year')\n",
    "    plt.xticks(rotation=60)\n",
    "    \n",
    "    "
   ]
  },
  {
   "cell_type": "code",
   "execution_count": null,
   "metadata": {
    "ExecuteTime": {
     "end_time": "2021-02-05T15:46:43.949154Z",
     "start_time": "2021-02-05T15:46:41.374061Z"
    }
   },
   "outputs": [],
   "source": [
    "widgets.interactive( update_map2, data=fixed(df_houses), limit=date_limit )"
   ]
  },
  {
   "cell_type": "markdown",
   "metadata": {},
   "source": [
    "### Exercícios:\n",
    "\n",
    "1. Qual a quantidade de imóveis por nível?\n",
    " - Nivel 0: Preço entre 0.00 e R$ 321.950\n",
    " - Nivel 1: Preço entre 321.950 e 450.000\n",
    " - Nivel 2: Preço entre 450.000 e 645.000\n",
    " - Nivel 3: Preço Acima de 645.000\n",
    "\n",
    "2. Qual a média do tamanho da sala de estar dos imíveis por \"size\"?\n",
    " - Size 0: Tamanho entre 0 e 1427 sqft\n",
    " - Size 1: Tamanho entre 1427 e 1910 sqft\n",
    " - Size 2: Tamanho entre 1910 e 2550 sqft\n",
    " - Size 3: Tamanho acima de 2550 sqtf\n",
    "\n",
    "3. Adicione as seguintes informações ao conjunto de dados original?\n",
    " - Place ID:Identificação da localização\n",
    " - OSM type: Open Street Map Type\n",
    " - Country: Nome do País\n",
    " - Country CODE: Código do País\n",
    "\n",
    "4. Adicione os seguintes filtros no mapa:\n",
    " - Tamanho mínimo da área da sala de estar\n",
    " - Número mínino de banheiros\n",
    " - Valor máximo do preço\n",
    " - Tamanho máximo da área do porão\n",
    " - Filtro das condições do imóvel\n",
    " - Filtro por ano de construção\n",
    "\n",
    "5. Adicione os seguintes filtros no Dashboard:\n",
    "\n",
    " - Filtro por data disponível para compra\n",
    " - Filtro por ano de renovação\n",
    " - Filtro se possui vista para água ou não."
   ]
  },
  {
   "cell_type": "code",
   "execution_count": null,
   "metadata": {
    "ExecuteTime": {
     "end_time": "2021-02-08T17:01:52.756964Z",
     "start_time": "2021-02-08T17:01:52.467150Z"
    }
   },
   "outputs": [],
   "source": [
    "# 1. Qual a quantidade de imóveis por nível?\n",
    "\n",
    "# df_houses['nivel'].value_counts().plot.bar()\n",
    "\n",
    "style = {'description_width': 'initial'}\n",
    "# definindo o controle de nível\n",
    "level_control = widgets.SelectionSlider(\n",
    "    options=['Todos'] + df_houses['nivel'].sort_values().unique().tolist(),\n",
    "    value='Todos',\n",
    "    description='Nível',\n",
    "    disabled=False,\n",
    "    continuous_update=False,\n",
    "    orientation='horizontal',\n",
    "    readout=True,\n",
    "    style= style\n",
    ")\n",
    "\n",
    "\n",
    "def bar_graph_contr(df, **controllers_args):\n",
    "\n",
    "    nivel = controllers_args.get('level')\n",
    "    if nivel:\n",
    "        houses = df.query('nivel == @nivel').groupby('nivel').count().reset_index() if nivel != 'Todos' else df.groupby('nivel').count().reset_index()\n",
    "    \n",
    "    fig = px.bar(houses, x=\"nivel\", y=\"id\", title='quantidade de imóveis', \n",
    "             color_discrete_sequence=px.colors.qualitative.Set1)\n",
    "    fig.update_layout(\n",
    "        plot_bgcolor=\"white\",\n",
    "        margin=dict(t=30,l=0,b=0,r=0),\n",
    "        bargap=0.8\n",
    "    )\n",
    "    fig.show()\n",
    "\n",
    "\n",
    "    \n",
    "widgets.interactive( bar_graph_contr, df=fixed(df_houses), level=level_control )"
   ]
  },
  {
   "cell_type": "markdown",
   "metadata": {},
   "source": [
    "#### 2. Qual a média do tamanho da sala de estar dos imóveis por \"size\"?\n",
    " - Size 0: Tamanho entre 0 e 1427 sqft\n",
    " - Size 1: Tamanho entre 1427 e 1910 sqft\n",
    " - Size 2: Tamanho entre 1910 e 2550 sqft\n",
    " - Size 3: Tamanho acima de 2550 sqtf"
   ]
  },
  {
   "cell_type": "code",
   "execution_count": null,
   "metadata": {
    "ExecuteTime": {
     "end_time": "2021-02-08T17:01:16.055476Z",
     "start_time": "2021-02-08T17:01:16.044528Z"
    }
   },
   "outputs": [],
   "source": [
    "df_houses['size_room'] = df_houses['sqft_living'].apply(\n",
    "lambda tamanho:\n",
    "    'size_0' if 0 <= tamanho < 1427 else(\n",
    "        'size_1' if 1427 <= tamanho < 1910 else(\n",
    "            'size_2' if 1910 <= tamanho < 2550 else 'size_3'\n",
    "        )\n",
    "    )\n",
    ")"
   ]
  },
  {
   "cell_type": "code",
   "execution_count": null,
   "metadata": {
    "ExecuteTime": {
     "end_time": "2021-02-08T17:01:17.114635Z",
     "start_time": "2021-02-08T17:01:17.099676Z"
    }
   },
   "outputs": [],
   "source": [
    "df_houses['size_room'].sort_values().unique().tolist()"
   ]
  },
  {
   "cell_type": "code",
   "execution_count": null,
   "metadata": {
    "ExecuteTime": {
     "end_time": "2021-02-08T17:02:04.950199Z",
     "start_time": "2021-02-08T17:02:04.859417Z"
    }
   },
   "outputs": [],
   "source": [
    "\n",
    "# filtro de Tamanho\n",
    "size_control = widgets.SelectionSlider(\n",
    "    options=['Todos'] + df_houses['size_room'].sort_values().unique().tolist(),\n",
    "    value='Todos',\n",
    "    description='Tamanho',\n",
    "    disabled=False,\n",
    "    continuous_update=False,\n",
    "    orientation='horizontal',\n",
    "    readout=True,\n",
    "    style= style\n",
    ")\n",
    "\n",
    "\n",
    "\n",
    "\n",
    "def dash_graph_contr(df, **controllers_args):\n",
    "\n",
    "    nivel = controllers_args.get('level')\n",
    "    size = controllers_args.get('size')\n",
    "    \n",
    "    fig = make_subplots(\n",
    "        rows=1, cols=2,\n",
    "        shared_xaxes=True,\n",
    "        vertical_spacing=0.03,\n",
    "        specs=[[{\"type\": \"bar\"},{\"type\": \"bar\"}]]\n",
    "    )\n",
    "    \n",
    "    if nivel and size:\n",
    "        dnivel = df.groupby('nivel').count().reset_index()\n",
    "        dsize = df.groupby('size_room').agg({'sqft_living': 'mean'}).reset_index()\n",
    "        if nivel != 'Todos' and size != 'Todos':\n",
    "            dnivel = df.query('size_room == @size & nivel == @nivel').groupby('nivel').count().reset_index() \n",
    "            dsize = df.query('size_room == @size & nivel == @nivel').groupby('size_room').agg({'sqft_living': 'mean'}).reset_index()\n",
    "        if nivel == 'Todos' and size != 'Todos':\n",
    "            dnivel = df.query('size_room == @size').groupby('nivel').count().reset_index() \n",
    "            dsize = df.query('size_room == @size').groupby('size_room').agg({'sqft_living': 'mean'}).reset_index()\n",
    "        if nivel != 'Todos' and size == 'Todos':\n",
    "            dnivel = df.query('nivel == @nivel').groupby('nivel').count().reset_index() \n",
    "            dsize = df.query('nivel == @nivel').groupby('size_room').agg({'sqft_living': 'mean'}).reset_index()\n",
    "    \n",
    "    \n",
    "    trace1 = go.Bar(\n",
    "                name = 'qtd_nivel',\n",
    "                x = dnivel['nivel'].tolist(),\n",
    "                y = dnivel['id'].tolist(),\n",
    "            )\n",
    "    trace2 = go.Bar(\n",
    "                name = 'media_tamanho_sala',\n",
    "                x = dsize['size_room'].tolist(),\n",
    "                y = dsize['sqft_living'].tolist(),\n",
    "            )\n",
    "    \n",
    "    fig.append_trace(trace1, 1, 1)\n",
    "    fig.append_trace(trace2, 1, 2)\n",
    "    fig.update_layout(\n",
    "        height=600,\n",
    "        showlegend=False,\n",
    "        title_text=\"analise de nivel e tamanho da sala\"\n",
    "    )\n",
    "    fig.show()\n",
    "\n",
    "\n",
    "    \n",
    "widgets.interactive( dash_graph_contr, df=fixed(df_houses), level=level_control, size=size_control )"
   ]
  },
  {
   "cell_type": "markdown",
   "metadata": {
    "ExecuteTime": {
     "end_time": "2021-02-06T00:48:08.945163Z",
     "start_time": "2021-02-06T00:48:08.922164Z"
    }
   },
   "source": [
    "#### 3. Adicione as seguintes informações ao conjunto de dados original?\n",
    "\n",
    "- Place ID:Identificação da localização\n",
    "- OSM type: Open Street Map Type\n",
    "- Country: Nome do País\n",
    "- Country CODE: Código do País"
   ]
  },
  {
   "cell_type": "code",
   "execution_count": null,
   "metadata": {
    "ExecuteTime": {
     "end_time": "2021-02-08T17:03:13.406003Z",
     "start_time": "2021-02-08T17:03:12.533599Z"
    }
   },
   "outputs": [],
   "source": [
    "# Testando com uma geolocalização aleatoria\n",
    "\n",
    "response = geolocator.reverse('47.5045,-122.33')\n",
    "response.raw"
   ]
  },
  {
   "cell_type": "code",
   "execution_count": null,
   "metadata": {
    "ExecuteTime": {
     "end_time": "2021-02-08T17:03:20.586959Z",
     "start_time": "2021-02-08T17:03:20.580975Z"
    }
   },
   "outputs": [],
   "source": [
    "#  Criando novas colunas vazias no dataframe\n",
    "from numpy import nan\n",
    "\n",
    "df_houses['place_id'] = nan\n",
    "df_houses['osm_type'] = nan\n",
    "df_houses['country'] = nan\n",
    "df_houses['country_code'] = nan\n"
   ]
  },
  {
   "cell_type": "code",
   "execution_count": null,
   "metadata": {
    "ExecuteTime": {
     "end_time": "2021-02-08T17:13:47.589298Z",
     "start_time": "2021-02-08T17:13:47.584338Z"
    }
   },
   "outputs": [],
   "source": [
    "df_houses.columns.size\n",
    "df_houses.columns.get_loc('long')"
   ]
  },
  {
   "cell_type": "code",
   "execution_count": 2,
   "metadata": {
    "ExecuteTime": {
     "end_time": "2021-02-09T20:05:35.199767Z",
     "start_time": "2021-02-09T20:05:35.191803Z"
    },
    "code_folding": []
   },
   "outputs": [],
   "source": [
    "def iterdict(d, chave):\n",
    "    '''\n",
    "    Função para iterar recursivamente sobre um dicionario e retornar o valor da chave passada como parametro\n",
    "    \n",
    "    Keyword arguments:\n",
    "    d -- dictionary\n",
    "    chave -- name of the key to be searched\n",
    "    '''\n",
    "    from numpy import nan\n",
    "    \n",
    "    if chave in d: \n",
    "        return d[chave]\n",
    "    for v in d.values():        \n",
    "        if isinstance(v, dict):\n",
    "            return iterdict(dict(v), chave)\n",
    "            \n",
    "    return  nan\n",
    "\n",
    "\n",
    "\n",
    "def get_geo_attr(key_tuple, df ):\n",
    "    '''\n",
    "    Função para adicionar ao dataframe informações da API geopy.geocoders\n",
    "    \n",
    "    Keyword arguments:\n",
    "    key_tuple -- tupla com os nomes das chaves que contém as informações da API a serem adicionadas ao dataframe\n",
    "    df -- dataframe que deve conter as colunas a serem populadas com os nomes das chaves key_tuple, bem como as \n",
    "    colunas \"lat\" e \"long\" com dados de latitude e longitude a serem usados como query para pesquisa na API\n",
    "    '''\n",
    "    \n",
    "    from geopy.geocoders import Nominatim\n",
    "    from geopy.exc import GeocoderTimedOut\n",
    "    from tqdm.notebook import trange\n",
    "    \n",
    "    geolocator = Nominatim( user_agent='geoapiExercicises' )\n",
    "\n",
    "    for i in trange( len(df) ):\n",
    "\n",
    "        # Implementando cache caso tenha que rodar de novo o laço for. Verifica o preenchimento na coluna cujo nome \n",
    "        # é a primeteamira chave da tupla key_tuple\n",
    "        if pd.isna(df.iloc[i, df.columns.get_loc(key_tuple[0])]) == False:\n",
    "            continue\n",
    "\n",
    "        # Montando a string de busca com os dados de 'lat' e 'long'\n",
    "        query = str(df.iloc[i, df.columns.get_loc('lat')]) + ',' + str(df.iloc[i, df.columns.get_loc('long')])\n",
    "\n",
    "        # API request\n",
    "        try:\n",
    "            response = geolocator.reverse(query)\n",
    "        except GeocoderTimedOut:\n",
    "            continue\n",
    "\n",
    "        # Popula o dataframe com os dados da API conforme as chaves passadas na tupla key_tuple:\n",
    "        for chave in key_tuple:\n",
    "            df.iloc[i, df.columns.get_loc(chave)] = iterdict(dict(response.raw), chave)\n",
    "           \n",
    "    \n",
    "    return df\n"
   ]
  },
  {
   "cell_type": "code",
   "execution_count": null,
   "metadata": {
    "ExecuteTime": {
     "end_time": "2021-02-08T20:24:53.558796Z",
     "start_time": "2021-02-08T17:25:20.760067Z"
    }
   },
   "outputs": [],
   "source": [
    "novas_infos = ('place_id', 'osm_type', 'country', 'country_code')\n",
    "df_houses = get_geo_attr(novas_infos, df_houses)"
   ]
  },
  {
   "cell_type": "code",
   "execution_count": null,
   "metadata": {
    "ExecuteTime": {
     "end_time": "2021-02-08T20:37:29.017643Z",
     "start_time": "2021-02-08T20:37:28.991738Z"
    }
   },
   "outputs": [],
   "source": [
    "# verificando se as informações preenchidas\n",
    "df_houses.sample(10)"
   ]
  },
  {
   "cell_type": "code",
   "execution_count": null,
   "metadata": {
    "ExecuteTime": {
     "end_time": "2021-02-08T20:38:37.189007Z",
     "start_time": "2021-02-08T20:38:36.775022Z"
    }
   },
   "outputs": [],
   "source": [
    "# salvando num arquivo pra não precisar fazer de novo\n",
    "df_houses.to_csv('dados/processados/kc_house_data_comp.csv', index=False)"
   ]
  },
  {
   "cell_type": "markdown",
   "metadata": {},
   "source": [
    "#### 4. Adicione os seguintes filtros no mapa:\n",
    " - Tamanho mínimo da área da sala de estar\n",
    " - Número mínino de banheiros\n",
    " - Valor máximo do preço\n",
    " - Tamanho máximo da área do porão\n",
    " - Filtro das condições do imóvel\n",
    " - Filtro por ano de construção"
   ]
  },
  {
   "cell_type": "code",
   "execution_count": 4,
   "metadata": {
    "ExecuteTime": {
     "end_time": "2021-02-09T15:03:29.592426Z",
     "start_time": "2021-02-09T15:03:29.481663Z"
    }
   },
   "outputs": [],
   "source": [
    "# Abrindo o arquivo já com os dados que foram coletados da API Geopy\n",
    "# \n",
    "# Isso foi feito, pois ao fechar o notebook antes de concluir todos o exercícios, e depois abrir novamente\n",
    "# para dar continuidade aos exercícios, não é necessário coletar novamente os dados da API, pois é muito demorado\n",
    "# \n",
    "\n",
    "df_houses = pd.read_csv('dados/processados/kc_house_data_comp.csv', parse_dates=['date'], \n",
    "                       infer_datetime_format=True, dtype={'condition': str })"
   ]
  },
  {
   "cell_type": "code",
   "execution_count": 7,
   "metadata": {
    "ExecuteTime": {
     "end_time": "2021-02-09T15:04:04.968999Z",
     "start_time": "2021-02-09T15:04:04.930103Z"
    }
   },
   "outputs": [],
   "source": [
    "from ipywidgets import Layout\n",
    "\n",
    "style = {'description_width': 'initial', 'handle_color': 'yellow'}\n",
    "form_item_layout = Layout(\n",
    "    display='flex',\n",
    "    flex_flow='row',\n",
    "    justify_content='space-between',\n",
    "    width='auto'\n",
    ")\n",
    "\n",
    "# Filtro de tamanho da área da sala de estar\n",
    "livroom_limit = widgets.IntSlider(\n",
    "    value = 50,\n",
    "    min = 5,\n",
    "    max = 14000,\n",
    "    step = 2,\n",
    "    description = 'T. Min. Sala',\n",
    "    disable = False,\n",
    "    style = style,\n",
    "    readout=True,\n",
    "    layout = form_item_layout\n",
    ")\n",
    "\n",
    "# Filtro de Número mínino de banheiros\n",
    "bath_limit = widgets.IntSlider(\n",
    "    value = 0,\n",
    "    min = 1,\n",
    "    max = 10,\n",
    "    step = 1,\n",
    "    description = 'Qtd. Min. Banheiros',\n",
    "    disable = False,\n",
    "    style = style,\n",
    "    readout=True,\n",
    "    layout = form_item_layout\n",
    ")\n",
    "\n",
    "# Filtro de Valor máximo do preço\n",
    "price_limit = widgets.IntSlider(\n",
    "    value = 540000,\n",
    "    min = 75000,\n",
    "    max = 77000000,\n",
    "    step = 10,\n",
    "    description = 'Max. Preço',\n",
    "    disable = False,\n",
    "    style = style,\n",
    "    readout=True,\n",
    "    layout = form_item_layout\n",
    ")\n",
    "\n",
    "# Filtro das condições do imóvel\n",
    "condition_limit = widgets.SelectionSlider(\n",
    "    options=['Todas'] + df_houses['condition'].sort_values().unique().tolist(),\n",
    "    value='Todas',\n",
    "    description='Condição',\n",
    "    disabled=False,\n",
    "    continuous_update=False,\n",
    "    orientation='horizontal',\n",
    "    readout=True,\n",
    "    style= style,\n",
    "    layout = form_item_layout\n",
    ")\n",
    "\n",
    "# Filtro por ano de construção\n",
    "yb = [(i,i) for i in df_houses['yr_built'].sort_values().unique()]\n",
    "yrbuilt_limit = widgets.SelectionRangeSlider(\n",
    "    options=yb,\n",
    "    index=(0,len(yb)-1),\n",
    "    description='Ano Constr.',\n",
    "    disabled=False,\n",
    "    style = style,\n",
    "    readout=True,\n",
    "    layout = form_item_layout\n",
    ")\n"
   ]
  },
  {
   "cell_type": "code",
   "execution_count": 13,
   "metadata": {
    "ExecuteTime": {
     "end_time": "2021-02-09T16:58:45.443462Z",
     "start_time": "2021-02-09T16:58:45.220993Z"
    }
   },
   "outputs": [
    {
     "data": {
      "application/vnd.jupyter.widget-view+json": {
       "model_id": "e6dbcf37120f4c018edd928539edfcfa",
       "version_major": 2,
       "version_minor": 0
      },
      "text/plain": [
       "interactive(children=(IntSlider(value=50, description='T. Min. Sala', layout=Layout(display='flex', flex_flow=…"
      ]
     },
     "metadata": {},
     "output_type": "display_data"
    }
   ],
   "source": [
    "def map_contr(df, **controllers_args):\n",
    "\n",
    "    livroom = controllers_args.get('livroom')\n",
    "    bath = controllers_args.get('bath')\n",
    "    price = controllers_args.get('price')\n",
    "    condition = controllers_args.get('condition')\n",
    "    yrbuilt = controllers_args.get('yrbuilt')\n",
    "    \n",
    "    # Exercicio 05\n",
    "    date = controllers_args.get('date')\n",
    "    yrreno = controllers_args.get('yrreno')\n",
    "    waterfront = controllers_args.get('waterfront')\n",
    "    \n",
    "    \n",
    "    dhouses = df.query('sqft_living >= @livroom & bathrooms >= @bath & price <= @price & @yrbuilt[0] <= yr_built <= @yrbuilt[1]')[['id', 'lat', 'long', 'price', 'sqft_living']]\n",
    "    if condition != 'Todas':\n",
    "        dhouses = df.query('sqft_living >= @livroom & bathrooms >= @bath & price <= @price & @yrbuilt[0] <= yr_built <= @yrbuilt[1] & condition == @condition')[['id', 'lat', 'long', 'price', 'sqft_living']]\n",
    "\n",
    "    if date and yrreno and waterfront:\n",
    "        if condition != 'Todas':\n",
    "            dhouses = df.query('sqft_living >= @livroom & bathrooms >= @bath & price <= @price & @yrbuilt[0] <= yr_built <= @yrbuilt[1] & condition == @condition & \\\n",
    "                           @date[0] <= date <= @date[1] & @yrreno[0] <= yr_renovated <= @yrreno[1] & waterfront == @waterfront')[['id', 'lat', 'long', 'price', 'sqft_living']]\n",
    "        else:\n",
    "            dhouses = df.query('sqft_living >= @livroom & bathrooms >= @bath & price <= @price & @yrbuilt[0] <= yr_built <= @yrbuilt[1] & \\\n",
    "                           @date[0] <= date <= @date[1] & @yrreno[0] <= yr_renovated <= @yrreno[1] & waterfront == @waterfront')[['id', 'lat', 'long', 'price', 'sqft_living']]\n",
    "    \n",
    "    \n",
    "    \n",
    "    mapa = px.scatter_mapbox( dhouses, lat='lat', lon='long',  \n",
    "                     hover_name='id',\n",
    "                     hover_data=['price'],\n",
    "                     color_continuous_scale= px.colors.diverging.Portland,\n",
    "                     color='sqft_living',\n",
    "                     size='price',\n",
    "                     height=250,\n",
    "                     zoom= 9)\n",
    "    mapa.update_layout(mapbox_style='open-street-map')\n",
    "    mapa.update_layout(height=600, margin={'r':0, 't':0, 'l':0, 'b':0})\n",
    "    mapa.show()\n",
    "\n",
    "\n",
    "    \n",
    "widgets.interactive( map_contr, df=fixed(df_houses), \n",
    "                    livroom=livroom_limit, \n",
    "                    bath=bath_limit, \n",
    "                    price=price_limit, \n",
    "                    condition=condition_limit, \n",
    "                    yrbuilt=yrbuilt_limit )"
   ]
  },
  {
   "cell_type": "markdown",
   "metadata": {},
   "source": [
    "#### 5. Adicione os seguintes filtros no Dashboard:\n",
    "\n",
    " - Filtro por data disponível para compra\n",
    " - Filtro por ano de renovação\n",
    " - Filtro se possui vista para água ou não."
   ]
  },
  {
   "cell_type": "code",
   "execution_count": 14,
   "metadata": {
    "ExecuteTime": {
     "end_time": "2021-02-09T16:58:57.205282Z",
     "start_time": "2021-02-09T16:58:57.144444Z"
    }
   },
   "outputs": [],
   "source": [
    "#  Filtro por data disponível para compra\n",
    "dates = [(pd.to_datetime(i).strftime('%d/%m/%Y'),pd.to_datetime(i)) for i in df_houses['date'].sort_values().unique()]\n",
    "date_limit = widgets.SelectionRangeSlider(\n",
    "    options=dates,\n",
    "    index=(0,len(dates)-1),\n",
    "    description='Data',\n",
    "    disabled=False,\n",
    "    style = style,\n",
    "    readout=True,\n",
    "    layout = form_item_layout\n",
    ")\n",
    "\n",
    "# Filtro por ano de renovação\n",
    "yr = [(i,i) for i in df_houses['yr_renovated'].sort_values().unique()]\n",
    "yrreno_limit = widgets.SelectionRangeSlider(\n",
    "    options=yr,\n",
    "    index=(0,len(yr)-1),\n",
    "    description='Ano Renov.',\n",
    "    disabled=False,\n",
    "    style = style,\n",
    "    readout=True,\n",
    "    layout = form_item_layout\n",
    ")\n",
    "\n",
    "\n",
    "# Filtro se possui vista para águas ou não.\n",
    "waterfront_bar = widgets.Dropdown(\n",
    "    options = df_houses['waterfront'].unique().tolist(),\n",
    "    value = 0,\n",
    "    description = 'Vista para água',\n",
    "    disable=False,\n",
    "    style = style,\n",
    "    layout = form_item_layout\n",
    ")"
   ]
  },
  {
   "cell_type": "code",
   "execution_count": 15,
   "metadata": {
    "ExecuteTime": {
     "end_time": "2021-02-09T16:58:59.779197Z",
     "start_time": "2021-02-09T16:58:59.564771Z"
    }
   },
   "outputs": [
    {
     "data": {
      "application/vnd.jupyter.widget-view+json": {
       "model_id": "15c641aeecf84accaf7805c9eb9af273",
       "version_major": 2,
       "version_minor": 0
      },
      "text/plain": [
       "interactive(children=(IntSlider(value=50, description='T. Min. Sala', layout=Layout(display='flex', flex_flow=…"
      ]
     },
     "metadata": {},
     "output_type": "display_data"
    }
   ],
   "source": [
    "widgets.interactive( map_contr, df=fixed(df_houses), \n",
    "                    livroom=livroom_limit, \n",
    "                    bath=bath_limit, \n",
    "                    price=price_limit, \n",
    "                    condition=condition_limit, \n",
    "                    yrbuilt=yrbuilt_limit,\n",
    "                    date = date_limit,\n",
    "                    yrreno = yrreno_limit,\n",
    "                    waterfront = waterfront_bar)"
   ]
  },
  {
   "cell_type": "code",
   "execution_count": 5,
   "metadata": {
    "ExecuteTime": {
     "end_time": "2021-02-10T19:56:34.323308Z",
     "start_time": "2021-02-10T19:56:34.313336Z"
    }
   },
   "outputs": [
    {
     "data": {
      "text/plain": [
       "2014-06-23    142\n",
       "2014-06-25    130\n",
       "2014-06-26    127\n",
       "2015-04-27    126\n",
       "2015-03-25    123\n",
       "             ... \n",
       "2014-07-27      1\n",
       "2014-08-03      1\n",
       "2014-11-15      1\n",
       "2014-11-02      1\n",
       "2015-05-24      1\n",
       "Name: date, Length: 372, dtype: int64"
      ]
     },
     "execution_count": 5,
     "metadata": {},
     "output_type": "execute_result"
    }
   ],
   "source": [
    "df_houses['date'].value_counts()"
   ]
  }
 ],
 "metadata": {
  "kernelspec": {
   "display_name": "zero-ao-ds",
   "language": "python",
   "name": "zero-ao-ds"
  },
  "language_info": {
   "codemirror_mode": {
    "name": "ipython",
    "version": 3
   },
   "file_extension": ".py",
   "mimetype": "text/x-python",
   "name": "python",
   "nbconvert_exporter": "python",
   "pygments_lexer": "ipython3",
   "version": "3.8.3"
  }
 },
 "nbformat": 4,
 "nbformat_minor": 4
}
